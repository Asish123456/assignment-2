{
 "cells": [
  {
   "cell_type": "markdown",
   "id": "0faa03c5",
   "metadata": {},
   "source": [
    "# TOPIC: String Based Assignment Problem\n"
   ]
  },
  {
   "cell_type": "markdown",
   "id": "64948ab5",
   "metadata": {},
   "source": [
    "1. Write a program to reverse a string."
   ]
  },
  {
   "cell_type": "code",
   "execution_count": 2,
   "id": "39476834",
   "metadata": {},
   "outputs": [
    {
     "name": "stdout",
     "output_type": "stream",
     "text": [
      "enter the string :asus\n",
      "the reverse of the strinng is :\n",
      " susa\n"
     ]
    }
   ],
   "source": [
    "def reversestring(inp):\n",
    "    return inp[::-1]\n",
    "\n",
    "inp=input(\"enter the string :\")\n",
    "print(\"the reverse of the strinng is :\")\n",
    "print(\"\",reversestring(inp))"
   ]
  },
  {
   "cell_type": "markdown",
   "id": "a62ed5c0",
   "metadata": {},
   "source": [
    "2. Check if a string is a palindrome.\n"
   ]
  },
  {
   "cell_type": "code",
   "execution_count": 5,
   "id": "98708a4d",
   "metadata": {},
   "outputs": [
    {
     "name": "stdout",
     "output_type": "stream",
     "text": [
      "enter the inputabcdabcde\n",
      "abcdabcde is not a palindrome.\n"
     ]
    }
   ],
   "source": [
    "def is_palindrome(string):\n",
    "    # Remove spaces and convert to lowercase for a case-insensitive check\n",
    "    cleaned_string = string.replace(\" \", \"\").lower()\n",
    "    \n",
    "    # Compare the cleaned string with its reverse\n",
    "    return cleaned_string == cleaned_string[::-1]\n",
    "\n",
    "# Example usage:\n",
    "input_string = input(\"enter the input\")\n",
    "if is_palindrome(input_string):\n",
    "    print(f\"{input_string} is a palindrome.\")\n",
    "else:\n",
    "    print(f\"{input_string} is not a palindrome.\")\n"
   ]
  },
  {
   "cell_type": "markdown",
   "id": "62680048",
   "metadata": {},
   "source": [
    "3. Convert a string to uppercase."
   ]
  },
  {
   "cell_type": "code",
   "execution_count": 8,
   "id": "7a3fbb4a",
   "metadata": {},
   "outputs": [
    {
     "name": "stdout",
     "output_type": "stream",
     "text": [
      "enter the inputasish\n",
      "ASISH\n"
     ]
    }
   ],
   "source": [
    "input_string=input(\"enter the input\")\n",
    "print(input_string.upper())"
   ]
  },
  {
   "cell_type": "markdown",
   "id": "b0ce9b1c",
   "metadata": {},
   "source": [
    "4. Convert a string to lowercase."
   ]
  },
  {
   "cell_type": "code",
   "execution_count": 9,
   "id": "23216aea",
   "metadata": {},
   "outputs": [
    {
     "name": "stdout",
     "output_type": "stream",
     "text": [
      "enter the inputAsish\n",
      "asish\n"
     ]
    }
   ],
   "source": [
    "input_string=input(\"enter the input\")\n",
    "print(input_string.lower())"
   ]
  },
  {
   "cell_type": "markdown",
   "id": "7ba09127",
   "metadata": {},
   "source": [
    "5. Count the number of vowels in a string."
   ]
  },
  {
   "cell_type": "code",
   "execution_count": 12,
   "id": "9606e486",
   "metadata": {},
   "outputs": [
    {
     "name": "stdout",
     "output_type": "stream",
     "text": [
      "enter the inputaeiou\n",
      "the total vowels of the string: 5\n"
     ]
    }
   ],
   "source": [
    "inp=input(\"enter the input\")\n",
    "#convert input string in lower case\n",
    "inp=inp.lower()\n",
    "vowel_count=0\n",
    "#create set of vowels\n",
    "vowels=\"aeiou\"\n",
    "for char in inp:\n",
    "    if char in vowels:\n",
    "        vowel_count+=1\n",
    "\n",
    "print(\"the total vowels of the string:\",vowel_count)"
   ]
  },
  {
   "cell_type": "markdown",
   "id": "241cfb32",
   "metadata": {},
   "source": [
    "6. Count the number of consonants in a string."
   ]
  },
  {
   "cell_type": "code",
   "execution_count": 13,
   "id": "83c0911b",
   "metadata": {},
   "outputs": [
    {
     "name": "stdout",
     "output_type": "stream",
     "text": [
      "enter the inputasish\n",
      "the total vowels of the string: 3\n"
     ]
    }
   ],
   "source": [
    "inp=input(\"enter the input\")\n",
    "#convert input string in lower case\n",
    "inp=inp.lower()\n",
    "constant_count=0\n",
    "#create set of vowels\n",
    "vowels=\"aeiou\"\n",
    "for char  in inp:\n",
    "    if char not in vowels:\n",
    "        constant_count+=1\n",
    "\n",
    "print(\"the total vowels of the string:\",constant_count)"
   ]
  },
  {
   "cell_type": "markdown",
   "id": "990b14ab",
   "metadata": {},
   "source": [
    "7. Remove all whitespaces from a string."
   ]
  },
  {
   "cell_type": "code",
   "execution_count": 17,
   "id": "96715e5d",
   "metadata": {},
   "outputs": [
    {
     "name": "stdout",
     "output_type": "stream",
     "text": [
      "Hello,World!\n"
     ]
    }
   ],
   "source": [
    "# Input string\n",
    "input_string = \"Hello, World!\"\n",
    "\n",
    "# Remove all whitespaces from the string\n",
    "no_whitespace_string = input_string.replace(\" \", \"\")\n",
    "\n",
    "# Print the result\n",
    "print(no_whitespace_string)\n"
   ]
  },
  {
   "cell_type": "markdown",
   "id": "1816d31e",
   "metadata": {},
   "source": [
    "8. Find the length of a string without using the `len()` function."
   ]
  },
  {
   "cell_type": "code",
   "execution_count": 22,
   "id": "4dbc629b",
   "metadata": {},
   "outputs": [
    {
     "name": "stdout",
     "output_type": "stream",
     "text": [
      "enter the stringasish\n",
      "length of the string is 5\n"
     ]
    }
   ],
   "source": [
    "inp=input(\"enter the string\")\n",
    "\n",
    "count=0\n",
    "for char in inp:\n",
    "        count+=1\n",
    "\n",
    "print(\"length of the string is\",count)"
   ]
  },
  {
   "cell_type": "markdown",
   "id": "026fe122",
   "metadata": {},
   "source": [
    "9. Check if a string contains a specific word.\n"
   ]
  },
  {
   "cell_type": "code",
   "execution_count": 24,
   "id": "d67fe152",
   "metadata": {},
   "outputs": [
    {
     "name": "stdout",
     "output_type": "stream",
     "text": [
      "The string contains the word '{specific_word}' at index {word_index}.\n"
     ]
    }
   ],
   "source": [
    "# Input string\n",
    "input_string = \"This is a sample string.\"\n",
    "\n",
    "# Word to check for\n",
    "specific_word = \"sample\"\n",
    "\n",
    "# Find the word in the string\n",
    "word_index = input_string.find(specific_word)\n",
    "\n",
    "if word_index != -1:\n",
    "    print(f\"The string contains the word '{specific_word}' at index {word_index}.\")\n",
    "else:\n",
    "    print(f\"The string does not contain the word '{specific_word}'.\")\n"
   ]
  },
  {
   "cell_type": "markdown",
   "id": "6d05691f",
   "metadata": {},
   "source": [
    "10. Replace a word in a string with another word."
   ]
  },
  {
   "cell_type": "code",
   "execution_count": 26,
   "id": "a1c0e6a4",
   "metadata": {},
   "outputs": [
    {
     "name": "stdout",
     "output_type": "stream",
     "text": [
      "This is a new string.\n"
     ]
    }
   ],
   "source": [
    "# Input string\n",
    "input_string = \"This is a sample string.\"\n",
    "\n",
    "# Word to replace for\n",
    "specific_word = \"sample\"\n",
    "\n",
    "new_word=\"new\"\n",
    "new = input_string.replace(specific_word,new_word)\n",
    "\n",
    "print(new)\n"
   ]
  },
  {
   "cell_type": "markdown",
   "id": "b9ccfb7d",
   "metadata": {},
   "source": [
    "11. Count the occurrences of a word in a string."
   ]
  },
  {
   "cell_type": "code",
   "execution_count": 8,
   "id": "1cf71a57",
   "metadata": {},
   "outputs": [
    {
     "name": "stdout",
     "output_type": "stream",
     "text": [
      "enter a string:asish asish asish\n",
      "enter the target word for finding occurrences: asish\n",
      "the word occurreces of 'asish asish asish'is'3'\n"
     ]
    }
   ],
   "source": [
    "def count_occurrences(inp,targetword):\n",
    "    count=0\n",
    "    words=inp.split()\n",
    "    for word in words:\n",
    "        if word==targetword:\n",
    "            count+=1\n",
    "    return count\n",
    "inp=input(\"enter a string:\")\n",
    "targetword=input(\"enter the target word for finding occurrences: \")\n",
    "occurrences=count_occurrences(inp,targetword)\n",
    "print(f\"the word occurreces of '{inp}'is'{occurrences}'\")"
   ]
  },
  {
   "cell_type": "markdown",
   "id": "f081adc3",
   "metadata": {},
   "source": [
    "12. Find the first occurrence of a word in a string."
   ]
  },
  {
   "cell_type": "code",
   "execution_count": 13,
   "id": "f3eb4028",
   "metadata": {},
   "outputs": [
    {
     "name": "stdout",
     "output_type": "stream",
     "text": [
      "enter the string:asish is a goood boy\n",
      "enter the target word for finding occurenceboy\n",
      "the first occurene of 'asish is a goood boy' is '17'\n"
     ]
    }
   ],
   "source": [
    "def firstocc(inp,targetword):\n",
    "    index=inp.find(targetword)\n",
    "    \n",
    "    if index!= -1:\n",
    "        return index\n",
    "    else:\n",
    "        return -1\n",
    "    \n",
    "inp=input(\"enter the string:\")\n",
    "targetword=input(\"enter the target word for finding occurence\")\n",
    "indexfirst=firstocc(inp,targetword)\n",
    "print(f\"the first occurene of '{inp}' is '{indexfirst}'\")"
   ]
  },
  {
   "cell_type": "markdown",
   "id": "46ac05d7",
   "metadata": {},
   "source": [
    "13. Find the last occurrence of a word in a string."
   ]
  },
  {
   "cell_type": "code",
   "execution_count": 14,
   "id": "39571880",
   "metadata": {},
   "outputs": [
    {
     "name": "stdout",
     "output_type": "stream",
     "text": [
      "enter the string:asish is a  name and asish is good boy\n",
      "enter the target word for finding occurenceasish\n",
      "the first occurene of 'asish is a  name and asish is good boy' is '21'\n"
     ]
    }
   ],
   "source": [
    "def lastocc(inp,targetword):\n",
    "    index=inp.rfind(targetword)\n",
    "    \n",
    "    if index!= -1:\n",
    "        return index\n",
    "    else:\n",
    "        return -1\n",
    "    \n",
    "inp=input(\"enter the string:\")\n",
    "targetword=input(\"enter the target word for finding occurence\")\n",
    "indexfirst=lastocc(inp,targetword)\n",
    "print(f\"the first occurene of '{inp}' is '{indexfirst}'\")"
   ]
  },
  {
   "cell_type": "markdown",
   "id": "e1b65360",
   "metadata": {},
   "source": [
    "14. Split a string into a list of words."
   ]
  },
  {
   "cell_type": "code",
   "execution_count": 18,
   "id": "6ac035ca",
   "metadata": {},
   "outputs": [
    {
     "name": "stdout",
     "output_type": "stream",
     "text": [
      "enter the input:asish is a good boy\n",
      "['asish', 'is', 'a', 'good', 'boy']\n"
     ]
    }
   ],
   "source": [
    "inp=input(\"enter the input:\")\n",
    "print(inp.split())"
   ]
  },
  {
   "cell_type": "markdown",
   "id": "d4d96950",
   "metadata": {},
   "source": [
    "15. Join a list of words into a string."
   ]
  },
  {
   "cell_type": "code",
   "execution_count": 20,
   "id": "7796fac2",
   "metadata": {},
   "outputs": [
    {
     "name": "stdout",
     "output_type": "stream",
     "text": [
      "asish is a good boy\n"
     ]
    }
   ],
   "source": [
    "wordlst=[\"asish\",\"is\",\"a\",\"good\",\"boy\"]\n",
    "result=\" \".join(wordlst)\n",
    "print(result)"
   ]
  },
  {
   "cell_type": "markdown",
   "id": "0944635e",
   "metadata": {},
   "source": [
    "16. Convert a string where words are separated by spaces to one where words\n",
    "are separated by underscores."
   ]
  },
  {
   "cell_type": "code",
   "execution_count": 21,
   "id": "292bf785",
   "metadata": {},
   "outputs": [
    {
     "name": "stdout",
     "output_type": "stream",
     "text": [
      "this_is_a_good_for_exchange\n"
     ]
    }
   ],
   "source": [
    "orignal=\"this is a good for exchange\"\n",
    "underscore_string=orignal.replace(\" \",\"_\")\n",
    "print(underscore_string)"
   ]
  },
  {
   "cell_type": "markdown",
   "id": "0c2292a3",
   "metadata": {},
   "source": [
    "17. Check if a string starts with a specific word or phrase.\n"
   ]
  },
  {
   "cell_type": "code",
   "execution_count": 22,
   "id": "926f6b58",
   "metadata": {},
   "outputs": [
    {
     "name": "stdout",
     "output_type": "stream",
     "text": [
      "The string starts with 'this'.\n"
     ]
    }
   ],
   "source": [
    "orignal_string=\"this is a good for buy\"\n",
    "specificword=\"this\"\n",
    "starts_with=orignal_string.startswith(specificword)\n",
    "if starts_with:\n",
    "    print(f\"The string starts with '{specificword}'.\")\n",
    "else:\n",
    "    print(f\"The string does not start with '{specificword}'.\")"
   ]
  },
  {
   "cell_type": "markdown",
   "id": "096931d0",
   "metadata": {},
   "source": [
    "18. Check if a string ends with a specific word or phrase."
   ]
  },
  {
   "cell_type": "code",
   "execution_count": 25,
   "id": "e4584559",
   "metadata": {},
   "outputs": [
    {
     "name": "stdout",
     "output_type": "stream",
     "text": [
      "The string ends with 'this'.\n"
     ]
    }
   ],
   "source": [
    "orignal_string=\"this is a good for buy this object this\"\n",
    "specificword=\"this\"\n",
    "ends_with=orignal_string.endswith(specificword)\n",
    "if ends_with:\n",
    "    print(f\"The string ends with '{specificword}'.\")\n",
    "else:\n",
    "    print(f\"The string does not ends with '{specificword}'.\")"
   ]
  },
  {
   "cell_type": "markdown",
   "id": "aa8ef0d7",
   "metadata": {},
   "source": [
    "19. Convert a string to title case (e.g., \"hello world\" to \"Hello World\")"
   ]
  },
  {
   "cell_type": "code",
   "execution_count": 26,
   "id": "90cb18cd",
   "metadata": {},
   "outputs": [
    {
     "name": "stdout",
     "output_type": "stream",
     "text": [
      "enter the stringasish kumar panda\n",
      "Asish Kumar Panda\n"
     ]
    }
   ],
   "source": [
    "inp=input(\"enter the string\")\n",
    "print(inp.title())"
   ]
  },
  {
   "cell_type": "markdown",
   "id": "8a60b75d",
   "metadata": {},
   "source": [
    "20. Find the longest word in a string."
   ]
  },
  {
   "cell_type": "code",
   "execution_count": 27,
   "id": "f8a7a28c",
   "metadata": {},
   "outputs": [
    {
     "name": "stdout",
     "output_type": "stream",
     "text": [
      "enter the string:asish is a good ambiousguy\n",
      "the longest word of a string is : ambiousguy\n"
     ]
    }
   ],
   "source": [
    "def longestword(inp):\n",
    "    words=inp.split()\n",
    "    maxlen=0\n",
    "    longest_word=\"\"\n",
    "    for char in words:\n",
    "         if len(char)>maxlen:\n",
    "                longest_word=char\n",
    "                maxlen=len(char)\n",
    "    return longest_word\n",
    "inp=input(\"enter the string:\")\n",
    "longest=longestword(inp)\n",
    "print(\"the longest word of a string is :\",longest)\n",
    "                "
   ]
  },
  {
   "cell_type": "markdown",
   "id": "502453ca",
   "metadata": {},
   "source": [
    "21. Find the shortest word in a string."
   ]
  },
  {
   "cell_type": "code",
   "execution_count": 28,
   "id": "a5deafd6",
   "metadata": {},
   "outputs": [
    {
     "name": "stdout",
     "output_type": "stream",
     "text": [
      "enter the string:asish is a good boy of this school\n",
      "the shortest word is'a'\n"
     ]
    }
   ],
   "source": [
    "def shortestword(inp):\n",
    "    words=inp.split()\n",
    "    short=words[0]\n",
    "    \n",
    "    for char in inp:\n",
    "        if len(char)<len(short):\n",
    "            short=char\n",
    "    return short\n",
    "inp=input(\"enter the string:\")\n",
    "shortest_word=shortestword(inp)\n",
    "print(f\"the shortest word is'{shortest_word}'\")\n",
    "        "
   ]
  },
  {
   "cell_type": "markdown",
   "id": "718e4ff2",
   "metadata": {},
   "source": [
    "22. Reverse the order of words in a string"
   ]
  },
  {
   "cell_type": "code",
   "execution_count": 2,
   "id": "f9b273d5",
   "metadata": {},
   "outputs": [
    {
     "name": "stdout",
     "output_type": "stream",
     "text": [
      "words of order the Reverse\n"
     ]
    }
   ],
   "source": [
    "def reverse_words(string):\n",
    "    # Split the string into words\n",
    "    words = string.split()\n",
    "    \n",
    "    # Reverse the order of words\n",
    "    reversed_words = words[::-1]\n",
    "    \n",
    "    # Join the reversed words back into a string\n",
    "    reversed_string = ' '.join(reversed_words)\n",
    "    \n",
    "    return reversed_string\n",
    "\n",
    "\n",
    "\n",
    "original_string = \"Reverse the order of words\"\n",
    "reversed_string = reverse_words(original_string)\n",
    "print(reversed_string)  # Output: \"words of order the Reverse\"\n"
   ]
  },
  {
   "cell_type": "markdown",
   "id": "f9a33c23",
   "metadata": {},
   "source": [
    "23. Check if a string is alphanumeric.\n"
   ]
  },
  {
   "cell_type": "code",
   "execution_count": 3,
   "id": "6edad379",
   "metadata": {},
   "outputs": [
    {
     "name": "stdout",
     "output_type": "stream",
     "text": [
      "True\n",
      "True\n",
      "False\n",
      "False\n"
     ]
    }
   ],
   "source": [
    "def is_alphanumeric(string):\n",
    "    # Check if the string consists only of alphanumeric characters\n",
    "    return string.isalnum()\n",
    "string1 = \"Hello123\"\n",
    "string2 = \"12345\"\n",
    "string3 = \"Hello World\"\n",
    "string4 = \"Special_characters!123\"\n",
    "\n",
    "print(is_alphanumeric(string1))  # True\n",
    "print(is_alphanumeric(string2))  # True\n",
    "print(is_alphanumeric(string3))  # False\n",
    "print(is_alphanumeric(string4))  # False\n"
   ]
  },
  {
   "cell_type": "markdown",
   "id": "47960fe9",
   "metadata": {},
   "source": [
    "24. Extract all digits from a string"
   ]
  },
  {
   "cell_type": "code",
   "execution_count": 4,
   "id": "c98112e0",
   "metadata": {},
   "outputs": [
    {
     "name": "stdout",
     "output_type": "stream",
     "text": [
      "123456\n"
     ]
    }
   ],
   "source": [
    "def extract_digits(string):\n",
    "    # Initialize an empty string to store digits\n",
    "    extracted_digits = \"\"\n",
    "\n",
    "    # Iterate through each character in the string\n",
    "    for char in string:\n",
    "        # Check if the character is a digit\n",
    "        if char.isdigit():\n",
    "            # If it's a digit, append it to the extracted_digits string\n",
    "            extracted_digits += char\n",
    "\n",
    "    return extracted_digits\n",
    "input_string = \"Hello123World456\"\n",
    "result = extract_digits(input_string)\n",
    "print(result)  # Output: \"123456\"\n"
   ]
  },
  {
   "cell_type": "markdown",
   "id": "6dfab8a8",
   "metadata": {},
   "source": [
    "25. Extract all alphabets from a string."
   ]
  },
  {
   "cell_type": "code",
   "execution_count": 7,
   "id": "a969800d",
   "metadata": {},
   "outputs": [
    {
     "name": "stdout",
     "output_type": "stream",
     "text": [
      "HelloWorld\n"
     ]
    }
   ],
   "source": [
    "def extract_alphas(string):\n",
    "   \n",
    "    extracted_alphas = \"\"\n",
    "\n",
    "    \n",
    "    for char in string:\n",
    "        \n",
    "        if char.isalpha():\n",
    "            \n",
    "            extracted_alphas += char\n",
    "\n",
    "    return extracted_alphas\n",
    "input_string = \"Hello123World456\"\n",
    "result = extract_alphas(input_string)\n",
    "print(result)  \n"
   ]
  },
  {
   "cell_type": "markdown",
   "id": "330e72b7",
   "metadata": {},
   "source": [
    "26. Count the number of uppercase letters in a string"
   ]
  },
  {
   "cell_type": "code",
   "execution_count": 8,
   "id": "b0cba98b",
   "metadata": {},
   "outputs": [
    {
     "name": "stdout",
     "output_type": "stream",
     "text": [
      "2\n"
     ]
    }
   ],
   "source": [
    "def count_uppercase_letters(string):\n",
    "    # Initialize a count to keep track of the uppercase letters\n",
    "    count = 0\n",
    "\n",
    "    # Iterate through each character in the string\n",
    "    for char in string:\n",
    "        # Check if the character is an uppercase letter\n",
    "        if char.isupper():\n",
    "            # If it's an uppercase letter, increment the count\n",
    "            count += 1\n",
    "\n",
    "    return count\n",
    "input_string = \"Hello World\"\n",
    "uppercase_count = count_uppercase_letters(input_string)\n",
    "print(uppercase_count)  # Output: 2\n"
   ]
  },
  {
   "cell_type": "markdown",
   "id": "eca5a3f4",
   "metadata": {},
   "source": [
    "27. Count the number of lowercase letters in a string.\n"
   ]
  },
  {
   "cell_type": "code",
   "execution_count": 9,
   "id": "208ee29e",
   "metadata": {},
   "outputs": [
    {
     "name": "stdout",
     "output_type": "stream",
     "text": [
      "8\n"
     ]
    }
   ],
   "source": [
    "def count_lowercase_letters(string):\n",
    "    # Initialize a count to keep track of the lowercase letters\n",
    "    count = 0\n",
    "\n",
    "    # Iterate through each character in the string\n",
    "    for char in string:\n",
    "        # Check if the character is a lowercase letter\n",
    "        if char.islower():\n",
    "            # If it's a lowercase letter, increment the count\n",
    "            count += 1\n",
    "\n",
    "    return count\n",
    "input_string = \"Hello World\"\n",
    "lowercase_count = count_lowercase_letters(input_string)\n",
    "print(lowercase_count)  # Output: 8\n"
   ]
  },
  {
   "cell_type": "markdown",
   "id": "0916c076",
   "metadata": {},
   "source": [
    "28. Swap the case of each character in a string.\n"
   ]
  },
  {
   "cell_type": "code",
   "execution_count": 10,
   "id": "10a122b9",
   "metadata": {},
   "outputs": [
    {
     "name": "stdout",
     "output_type": "stream",
     "text": [
      "hELLO wORLD\n"
     ]
    }
   ],
   "source": [
    "def swap_case(string):\n",
    "    # Use the swapcase() method to swap the case of each character\n",
    "    swapped_string = string.swapcase()\n",
    "    \n",
    "    return swapped_string\n",
    "input_string = \"Hello World\"\n",
    "swapped_string = swap_case(input_string)\n",
    "print(swapped_string)  # Output: \"hELLO wORLD\"\n"
   ]
  },
  {
   "cell_type": "markdown",
   "id": "5db888bd",
   "metadata": {},
   "source": [
    "29. Remove a specific word from a string.\n"
   ]
  },
  {
   "cell_type": "code",
   "execution_count": 11,
   "id": "82fd4e4a",
   "metadata": {},
   "outputs": [
    {
     "name": "stdout",
     "output_type": "stream",
     "text": [
      "This is a  sentence. Remove '' from it.\n"
     ]
    }
   ],
   "source": [
    "def remove_word(input_string, word_to_remove):\n",
    "    # Use the replace() method to remove the specified word\n",
    "    modified_string = input_string.replace(word_to_remove, \"\")\n",
    "    \n",
    "    return modified_string\n",
    "input_string = \"This is a sample sentence. Remove 'sample' from it.\"\n",
    "word_to_remove = \"sample\"\n",
    "result_string = remove_word(input_string, word_to_remove)\n",
    "print(result_string)\n",
    "# Output: \"This is a  sentence. Remove 'sample' from it.\"\n"
   ]
  },
  {
   "cell_type": "markdown",
   "id": "938bd4f2",
   "metadata": {},
   "source": [
    "30. Check if a string is a valid email addres"
   ]
  },
  {
   "cell_type": "code",
   "execution_count": 12,
   "id": "00b0b5b5",
   "metadata": {},
   "outputs": [
    {
     "name": "stdout",
     "output_type": "stream",
     "text": [
      "True\n",
      "False\n",
      "False\n"
     ]
    }
   ],
   "source": [
    "import re\n",
    "\n",
    "def is_valid_email(email):\n",
    "    # Define a regular expression pattern for a basic email validation\n",
    "    pattern = r'^[\\w\\.-]+@[\\w\\.-]+\\.\\w+$'\n",
    "    \n",
    "    # Use the re.match() function to check if the email matches the pattern\n",
    "    if re.match(pattern, email):\n",
    "        return True\n",
    "    else:\n",
    "        return False\n",
    "email1 = \"user@example.com\"\n",
    "email2 = \"invalid-email\"\n",
    "email3 = \"missing@tld.\"\n",
    "\n",
    "print(is_valid_email(email1))  # True\n",
    "print(is_valid_email(email2))  # False\n",
    "print(is_valid_email(email3))  # False\n"
   ]
  },
  {
   "cell_type": "markdown",
   "id": "3c8969a8",
   "metadata": {},
   "source": [
    "31. Extract the username from an email address string."
   ]
  },
  {
   "cell_type": "code",
   "execution_count": 1,
   "id": "e0759f13",
   "metadata": {},
   "outputs": [
    {
     "name": "stdout",
     "output_type": "stream",
     "text": [
      "Username: example.username\n"
     ]
    }
   ],
   "source": [
    "# Example email address\n",
    "email = \"example.user@email.com\"\n",
    "\n",
    "# Split the email address at the \"@\" symbol\n",
    "parts = email.split(\"@\")\n",
    "\n",
    "# Check if there are two parts (username and domain) in the split result\n",
    "if len(parts) == 2:\n",
    "    username = parts[0]\n",
    "    print(\"Username:\", username)\n",
    "else:\n",
    "    print(\"Invalid email address. No username found.\")\n"
   ]
  },
  {
   "cell_type": "markdown",
   "id": "3cee6b48",
   "metadata": {},
   "source": [
    "32. Extract the domain name from an email address string."
   ]
  },
  {
   "cell_type": "code",
   "execution_count": 2,
   "id": "d35ed27c",
   "metadata": {},
   "outputs": [
    {
     "name": "stdout",
     "output_type": "stream",
     "text": [
      "domainname email.com\n"
     ]
    }
   ],
   "source": [
    "email = \"example.user@email.com\"\n",
    "parts = email.split(\"@\")\n",
    "if len(parts) == 2:\n",
    "    domainname = parts[1]\n",
    "    print(\"domainname\", domainname)\n",
    "else:\n",
    "    print(\"Invalid email address. No domainname found.\")\n"
   ]
  },
  {
   "cell_type": "markdown",
   "id": "225c42a1",
   "metadata": {},
   "source": [
    "33. Replace multiple spaces in a string with a single space."
   ]
  },
  {
   "cell_type": "code",
   "execution_count": 3,
   "id": "d22842b8",
   "metadata": {},
   "outputs": [
    {
     "name": "stdout",
     "output_type": "stream",
     "text": [
      "enter the string :asish is a good boy\n",
      "asish  is  a  good  boy\n"
     ]
    }
   ],
   "source": [
    "inp=input(\"enter the string :\")\n",
    "new_string=inp.replace(\" \",\"  \")\n",
    "print(new_string)"
   ]
  },
  {
   "cell_type": "markdown",
   "id": "a40becf7",
   "metadata": {},
   "source": [
    "34. Check if a string is a valid URL."
   ]
  },
  {
   "cell_type": "code",
   "execution_count": 1,
   "id": "cb6dede4",
   "metadata": {},
   "outputs": [
    {
     "name": "stdout",
     "output_type": "stream",
     "text": [
      "Valid URL\n"
     ]
    }
   ],
   "source": [
    "import validators\n",
    "\n",
    "# Example URL\n",
    "url = \"https://www.example.com\"\n",
    "\n",
    "if validators.url(url):\n",
    "    print(\"Valid URL\")\n",
    "else:\n",
    "    print(\"Invalid URL\")\n"
   ]
  },
  {
   "cell_type": "markdown",
   "id": "d8e93cd2",
   "metadata": {},
   "source": [
    "35. Extract the protocol (http or https) from a URL string."
   ]
  },
  {
   "cell_type": "code",
   "execution_count": 2,
   "id": "07eede42",
   "metadata": {},
   "outputs": [
    {
     "name": "stdout",
     "output_type": "stream",
     "text": [
      "https\n"
     ]
    }
   ],
   "source": [
    "url = \"https://www.example.com\"\n",
    "new=url.split(\":\")\n",
    "print(new[0])\n"
   ]
  },
  {
   "cell_type": "markdown",
   "id": "5ab9d609",
   "metadata": {},
   "source": [
    "36. Find the frequency of each character in a string."
   ]
  },
  {
   "cell_type": "code",
   "execution_count": 3,
   "id": "3fed0a47",
   "metadata": {},
   "outputs": [
    {
     "name": "stdout",
     "output_type": "stream",
     "text": [
      "'h': 1\n",
      "'e': 1\n",
      "'l': 3\n",
      "'o': 2\n",
      "'w': 1\n",
      "'r': 1\n",
      "'d': 1\n"
     ]
    }
   ],
   "source": [
    "# Input string\n",
    "input_string = \"hello world\"\n",
    "\n",
    "# Initialize an empty dictionary to store character frequencies\n",
    "char_frequency = {}\n",
    "\n",
    "# Iterate through the string\n",
    "for char in input_string:\n",
    "    # Check if the character is not a space\n",
    "    if char != ' ':\n",
    "        # Increment the character's count in the dictionary\n",
    "        char_frequency[char] = char_frequency.get(char, 0) + 1\n",
    "\n",
    "# Print the character frequencies\n",
    "for char, frequency in char_frequency.items():\n",
    "    print(f\"'{char}': {frequency}\")\n"
   ]
  },
  {
   "cell_type": "markdown",
   "id": "aefed9c6",
   "metadata": {},
   "source": [
    "37. Remove all punctuation from a string."
   ]
  },
  {
   "cell_type": "code",
   "execution_count": 6,
   "id": "e1b74b16",
   "metadata": {},
   "outputs": [
    {
     "name": "stdout",
     "output_type": "stream",
     "text": [
      "Hello1 World This is an example string\n"
     ]
    }
   ],
   "source": [
    "# Input string\n",
    "input_string = \"Hel!lo1, World! This is an example string.\"\n",
    "\n",
    "# Initialize an empty string to store the cleaned text\n",
    "cleaned_string = \"\"\n",
    "\n",
    "# Iterate through each character in the input string\n",
    "for char in input_string:\n",
    "    # Check if the character is not a punctuation mark\n",
    "    if char.isalnum() or char.isspace():\n",
    "        cleaned_string += char\n",
    "\n",
    "# Print the cleaned string\n",
    "print(cleaned_string)\n"
   ]
  },
  {
   "cell_type": "markdown",
   "id": "637c30e0",
   "metadata": {},
   "source": [
    "38. Check if a string contains only digits.\n"
   ]
  },
  {
   "cell_type": "code",
   "execution_count": 7,
   "id": "b837a029",
   "metadata": {},
   "outputs": [
    {
     "name": "stdout",
     "output_type": "stream",
     "text": [
      "Method 1: The string contains only digits.\n"
     ]
    }
   ],
   "source": [
    "input_string = \"12345\"\n",
    "\n",
    "# Method 1: Using isdigit()\n",
    "if input_string.isdigit():\n",
    "    print(\"Method 1: The string contains only digits.\")\n",
    "else:\n",
    "    print(\"Method 1: The string contains non-digit characters.\")\n"
   ]
  },
  {
   "cell_type": "markdown",
   "id": "c680c2fb",
   "metadata": {},
   "source": [
    "39. Check if a string contains only alphabets."
   ]
  },
  {
   "cell_type": "code",
   "execution_count": 8,
   "id": "a1791699",
   "metadata": {},
   "outputs": [
    {
     "name": "stdout",
     "output_type": "stream",
     "text": [
      "Method 1: The string contains non-alphabet  characters.\n"
     ]
    }
   ],
   "source": [
    "input_string = \"12345\"\n",
    "\n",
    "# Method 1: Using isalpha()\n",
    "if input_string.isalpha():\n",
    "    print(\"Method 1: The string contains only alphabets.\")\n",
    "else:\n",
    "    print(\"Method 1: The string contains non-alphabet  characters.\")\n"
   ]
  },
  {
   "cell_type": "markdown",
   "id": "54b4693f",
   "metadata": {},
   "source": []
  },
  {
   "cell_type": "markdown",
   "id": "f3c76c0a",
   "metadata": {},
   "source": [
    "40. Convert a string to a list of characters.\n"
   ]
  },
  {
   "cell_type": "code",
   "execution_count": 9,
   "id": "a983e266",
   "metadata": {},
   "outputs": [
    {
     "name": "stdout",
     "output_type": "stream",
     "text": [
      "['H', 'e', 'l', 'l', 'o', ',', ' ', 'W', 'o', 'r', 'l', 'd', '!']\n"
     ]
    }
   ],
   "source": [
    "# Input string\n",
    "input_string = \"Hello, World!\"\n",
    "\n",
    "# Convert the string to a list of characters\n",
    "char_list = list(input_string)\n",
    "\n",
    "# Print the list of characters\n",
    "print(char_list)\n"
   ]
  },
  {
   "cell_type": "markdown",
   "id": "4f9f6b7a",
   "metadata": {},
   "source": [
    "41. Check if two strings are anagrams.\n"
   ]
  },
  {
   "cell_type": "code",
   "execution_count": 1,
   "id": "22bb22b2",
   "metadata": {},
   "outputs": [
    {
     "name": "stdout",
     "output_type": "stream",
     "text": [
      "listen and silent are anagrams.\n"
     ]
    }
   ],
   "source": [
    "def are_anagrams(str1, str2):\n",
    "    # Remove spaces and convert both strings to lowercase to make the comparison case-insensitive\n",
    "    str1 = str1.replace(\" \", \"\").lower()\n",
    "    str2 = str2.replace(\" \", \"\").lower()\n",
    "    \n",
    "    # Check if the lengths of the strings are the same\n",
    "    if len(str1) != len(str2):\n",
    "        return False\n",
    "    \n",
    "    # Create dictionaries to store character frequencies in both strings\n",
    "    char_count1 = {}\n",
    "    char_count2 = {}\n",
    "    \n",
    "    # Count characters in the first string\n",
    "    for char in str1:\n",
    "        if char in char_count1:\n",
    "            char_count1[char] += 1\n",
    "        else:\n",
    "            char_count1[char] = 1\n",
    "    \n",
    "    # Count characters in the second string\n",
    "    for char in str2:\n",
    "        if char in char_count2:\n",
    "            char_count2[char] += 1\n",
    "        else:\n",
    "            char_count2[char] = 1\n",
    "    \n",
    "    # Compare the character frequencies in both dictionaries\n",
    "    return char_count1 == char_count2\n",
    "\n",
    "# Example usage:\n",
    "str1 = \"listen\"\n",
    "str2 = \"silent\"\n",
    "if are_anagrams(str1, str2):\n",
    "    print(f\"{str1} and {str2} are anagrams.\")\n",
    "else:\n",
    "    print(f\"{str1} and {str2} are not anagrams.\")\n"
   ]
  },
  {
   "cell_type": "markdown",
   "id": "76d90ba6",
   "metadata": {},
   "source": [
    "42. Encode a string using a Caesar cipher.\n"
   ]
  },
  {
   "cell_type": "code",
   "execution_count": 2,
   "id": "f3c1105c",
   "metadata": {},
   "outputs": [
    {
     "name": "stdout",
     "output_type": "stream",
     "text": [
      "Original Text: Hello, World!\n",
      "Encrypted Text: Khoor, Zruog!\n"
     ]
    }
   ],
   "source": [
    "def caesar_cipher_encrypt(text, shift):\n",
    "    encrypted_text = \"\"\n",
    "\n",
    "    for char in text:\n",
    "        if char.isalpha():  # Check if it's a letter\n",
    "            is_upper = char.isupper()  # Check if it's uppercase\n",
    "            if is_upper:\n",
    "                alphabet_start = ord('A')\n",
    "            else:\n",
    "                alphabet_start = ord('a')\n",
    "            \n",
    "            char_code = ord(char) - alphabet_start  # Convert letter to a number (0-25)\n",
    "            encrypted_char_code = (char_code + shift) % 26  # Shift the letter by 'shift' positions\n",
    "            encrypted_char = chr(encrypted_char_code + alphabet_start)  # Convert back to a letter\n",
    "            encrypted_text += encrypted_char  # Append the encrypted letter\n",
    "        else:\n",
    "            encrypted_text += char  # Keep non-letter characters unchanged\n",
    "\n",
    "    return encrypted_text\n",
    "\n",
    "# Example usage:\n",
    "plaintext = \"Hello, World!\"\n",
    "shift = 3\n",
    "encrypted_text = caesar_cipher_encrypt(plaintext, shift)\n",
    "print(f\"Original Text: {plaintext}\")\n",
    "print(f\"Encrypted Text: {encrypted_text}\")\n"
   ]
  },
  {
   "cell_type": "markdown",
   "id": "468cd0b2",
   "metadata": {},
   "source": [
    "43. Decode a Caesar cipher encoded string"
   ]
  },
  {
   "cell_type": "code",
   "execution_count": 3,
   "id": "770ffb7a",
   "metadata": {},
   "outputs": [
    {
     "name": "stdout",
     "output_type": "stream",
     "text": [
      "Encrypted Text: Khoor, Zruog!\n",
      "Decrypted Text: Hello, World!\n"
     ]
    }
   ],
   "source": [
    "def caesar_cipher_decrypt(encrypted_text, shift):\n",
    "    decrypted_text = \"\"\n",
    "\n",
    "    for char in encrypted_text:\n",
    "        if char.isalpha():  # Check if it's a letter\n",
    "            is_upper = char.isupper()  # Check if it's uppercase\n",
    "            if is_upper:\n",
    "                alphabet_start = ord('A')\n",
    "            else:\n",
    "                alphabet_start = ord('a')\n",
    "            \n",
    "            char_code = ord(char) - alphabet_start  # Convert letter to a number (0-25)\n",
    "            decrypted_char_code = (char_code - shift) % 26  # Reverse the shift\n",
    "            decrypted_char = chr(decrypted_char_code + alphabet_start)  # Convert back to a letter\n",
    "            decrypted_text += decrypted_char  # Append the decrypted letter\n",
    "        else:\n",
    "            decrypted_text += char  # Keep non-letter characters unchanged\n",
    "\n",
    "    return decrypted_text\n",
    "\n",
    "# Example usage:\n",
    "encrypted_text = \"Khoor, Zruog!\"\n",
    "shift = 3\n",
    "decrypted_text = caesar_cipher_decrypt(encrypted_text, shift)\n",
    "print(f\"Encrypted Text: {encrypted_text}\")\n",
    "print(f\"Decrypted Text: {decrypted_text}\")\n"
   ]
  },
  {
   "cell_type": "markdown",
   "id": "4763158d",
   "metadata": {},
   "source": [
    "44. Find the most frequent word in a string."
   ]
  },
  {
   "cell_type": "code",
   "execution_count": 26,
   "id": "42548719",
   "metadata": {},
   "outputs": [
    {
     "name": "stdout",
     "output_type": "stream",
     "text": [
      "The most frequent word is 'sample' with a frequency of 3 times.\n"
     ]
    }
   ],
   "source": [
    "from collections import Counter\n",
    "import re\n",
    "\n",
    "def most_frequent_word(text):\n",
    "    # Tokenize the text into words (split on spaces and remove punctuation)\n",
    "    words = re.findall(r'\\b\\w+\\b', text.lower())\n",
    "\n",
    "    # Count the frequency of each word\n",
    "    word_counts = Counter(words)\n",
    "\n",
    "    # Find the word with the highest frequency\n",
    "    most_common_word, most_common_count = word_counts.most_common(1)[0]\n",
    "\n",
    "    return most_common_word, most_common_count\n",
    "\n",
    "# Example\n",
    "text = \"This is a sample sentence. This sentence contains the word 'sample' multiple times. Sample.\"\n",
    "most_frequent, frequency = most_frequent_word(text)\n",
    "print(f\"The most frequent word is '{most_frequent}' with a frequency of {frequency} times.\")\n"
   ]
  },
  {
   "cell_type": "markdown",
   "id": "42e2075d",
   "metadata": {},
   "source": [
    "45. Find all unique words in a string."
   ]
  },
  {
   "cell_type": "code",
   "execution_count": 27,
   "id": "9195cc40",
   "metadata": {},
   "outputs": [
    {
     "name": "stdout",
     "output_type": "stream",
     "text": [
      "Unique words in the text:\n",
      "some\n",
      "sentence\n",
      "this\n",
      "is\n",
      "words\n",
      "a\n",
      "contains\n",
      "sample\n"
     ]
    }
   ],
   "source": [
    "import re\n",
    "\n",
    "def unique_words(text):\n",
    "    # Tokenize the text into words (split on spaces and remove punctuation)\n",
    "    words = re.findall(r'\\b\\w+\\b', text.lower())\n",
    "\n",
    "    # Create a set to store unique words\n",
    "    unique_word_set = set(words)\n",
    "\n",
    "    return unique_word_set\n",
    "\n",
    "# Example\n",
    "text = \"This is a sample sentence. This sentence contains some sample words.\"\n",
    "unique_words_set = unique_words(text)\n",
    "\n",
    "# Print the unique words\n",
    "print(\"Unique words in the text:\")\n",
    "for word in unique_words_set:\n",
    "    print(word)\n"
   ]
  },
  {
   "cell_type": "markdown",
   "id": "0bbe87f2",
   "metadata": {},
   "source": [
    "46. Count the number of syllables in a string.\n"
   ]
  },
  {
   "cell_type": "code",
   "execution_count": 28,
   "id": "64089ad4",
   "metadata": {},
   "outputs": [
    {
     "name": "stdout",
     "output_type": "stream",
     "text": [
      "The word 'syllable' has 2 syllables.\n"
     ]
    }
   ],
   "source": [
    "import re\n",
    "\n",
    "def count_syllables(word):\n",
    "    # Remove non-alphabetic characters and convert to lowercase\n",
    "    word = re.sub(r'[^a-zA-Z]', '', word).lower()\n",
    "\n",
    "    if not word:\n",
    "        return 0\n",
    "\n",
    "    vowels = \"aeiouy\"\n",
    "    syllable_count = 0\n",
    "    prev_char_is_vowel = False\n",
    "\n",
    "    for char in word:\n",
    "        if char in vowels:\n",
    "            if not prev_char_is_vowel:\n",
    "                syllable_count += 1\n",
    "            prev_char_is_vowel = True\n",
    "        else:\n",
    "            prev_char_is_vowel = False\n",
    "\n",
    "    # Adjust syllable count for specific cases\n",
    "    if word.endswith(\"e\"):\n",
    "        syllable_count -= 1\n",
    "    if syllable_count == 0:\n",
    "        syllable_count = 1\n",
    "\n",
    "    return syllable_count\n",
    "\n",
    "# Example\n",
    "word = \"syllable\"\n",
    "syllable_count = count_syllables(word)\n",
    "print(f\"The word '{word}' has {syllable_count} syllables.\")\n"
   ]
  },
  {
   "cell_type": "markdown",
   "id": "d23912c9",
   "metadata": {},
   "source": [
    "47. Check if a string contains any special characters."
   ]
  },
  {
   "cell_type": "code",
   "execution_count": 29,
   "id": "f371df44",
   "metadata": {},
   "outputs": [
    {
     "name": "stdout",
     "output_type": "stream",
     "text": [
      "The text contains special characters.\n"
     ]
    }
   ],
   "source": [
    "import re\n",
    "\n",
    "def contains_special_characters(text):\n",
    "    # Define a regular expression pattern to match special characters\n",
    "    special_characters_pattern = re.compile(r'[!@#$%^&*()_+{}\\[\\]:;<>,.?~\\\\|/]')\n",
    "    \n",
    "    # Use the pattern to search for special characters in the text\n",
    "    if special_characters_pattern.search(text):\n",
    "        return True\n",
    "    else:\n",
    "        return False\n",
    "\n",
    "# Example\n",
    "text = \"Hello, World!\"\n",
    "if contains_special_characters(text):\n",
    "    print(\"The text contains special characters.\")\n",
    "else:\n",
    "    print(\"The text does not contain special characters.\")\n"
   ]
  },
  {
   "cell_type": "markdown",
   "id": "3a147dbf",
   "metadata": {},
   "source": [
    "48. Remove the nth word from a string."
   ]
  },
  {
   "cell_type": "code",
   "execution_count": 30,
   "id": "bbea13fe",
   "metadata": {},
   "outputs": [
    {
     "name": "stdout",
     "output_type": "stream",
     "text": [
      "This is sample sentence.\n"
     ]
    }
   ],
   "source": [
    "def remove_nth_word(input_string, n):\n",
    "    # Split the input string into words\n",
    "    words = input_string.split()\n",
    "\n",
    "    # Check if n is a valid index\n",
    "    if 0 <= n < len(words):\n",
    "        # Remove the nth word\n",
    "        del words[n]\n",
    "\n",
    "        # Join the remaining words back into a string\n",
    "        result_string = ' '.join(words)\n",
    "\n",
    "        return result_string\n",
    "    else:\n",
    "        # If n is out of bounds, return the original string\n",
    "        return input_string\n",
    "\n",
    "# Example\n",
    "input_string = \"This is a sample sentence.\"\n",
    "n = 2  # Remove the third word (index 2)\n",
    "result = remove_nth_word(input_string, n)\n",
    "print(result)\n"
   ]
  },
  {
   "cell_type": "markdown",
   "id": "259b0c83",
   "metadata": {},
   "source": [
    "49. Insert a word at the nth position in a string"
   ]
  },
  {
   "cell_type": "code",
   "execution_count": 31,
   "id": "6e4c4f63",
   "metadata": {},
   "outputs": [
    {
     "name": "stdout",
     "output_type": "stream",
     "text": [
      "This is sample a sentence.\n"
     ]
    }
   ],
   "source": [
    "def insert_word_at_position(input_string, word_to_insert, n):\n",
    "    # Split the input string into words\n",
    "    words = input_string.split()\n",
    "\n",
    "    # Check if n is a valid index\n",
    "    if 0 <= n <= len(words):\n",
    "        # Insert the word at the nth position\n",
    "        words.insert(n, word_to_insert)\n",
    "\n",
    "        # Join the words back into a string\n",
    "        result_string = ' '.join(words)\n",
    "\n",
    "        return result_string\n",
    "    else:\n",
    "        # If n is out of bounds, return the original string\n",
    "        return input_string\n",
    "\n",
    "# Example\n",
    "input_string = \"This is a sentence.\"\n",
    "word_to_insert = \"sample\"\n",
    "n = 2  # Insert \"sample\" at the third position (index 2)\n",
    "result = insert_word_at_position(input_string, word_to_insert, n)\n",
    "print(result)\n",
    "\n"
   ]
  },
  {
   "cell_type": "markdown",
   "id": "bf2113e1",
   "metadata": {},
   "source": [
    "50. Convert a CSV string to a list of lists.\n"
   ]
  },
  {
   "cell_type": "code",
   "execution_count": 32,
   "id": "fec62d03",
   "metadata": {},
   "outputs": [
    {
     "name": "stdout",
     "output_type": "stream",
     "text": [
      "['Name', 'Age', 'Location']\n",
      "['Alice', '30', 'New York']\n",
      "['Bob', '25', 'Los Angeles']\n",
      "['Charlie', '35', 'San Francisco']\n"
     ]
    }
   ],
   "source": [
    "def csv_string_to_list(csv_string):\n",
    "    # Split the CSV string into lines\n",
    "    lines = csv_string.strip().split('\\n')\n",
    "    \n",
    "    # Initialize the result list\n",
    "    result = []\n",
    "    \n",
    "    for line in lines:\n",
    "        # Split each line into fields using a comma as the delimiter\n",
    "        fields = line.split(',')\n",
    "        \n",
    "        # Append the fields as a list to the result\n",
    "        result.append(fields)\n",
    "    \n",
    "    return result\n",
    "\n",
    "# Example CSV string\n",
    "csv_string = \"Name,Age,Location\\nAlice,30,New York\\nBob,25,Los Angeles\\nCharlie,35,San Francisco\"\n",
    "\n",
    "# Convert the CSV string to a list of lists\n",
    "csv_list = csv_string_to_list(csv_string)\n",
    "\n",
    "# Print the resulting list\n",
    "for row in csv_list:\n",
    "    print(row)\n",
    "\n",
    "    "
   ]
  },
  {
   "cell_type": "markdown",
   "id": "eec0eb55",
   "metadata": {},
   "source": [
    "# List Based Practice Problem :"
   ]
  },
  {
   "cell_type": "markdown",
   "id": "f76396ef",
   "metadata": {},
   "source": [
    "1. Create a list with integers from 1 to 10"
   ]
  },
  {
   "cell_type": "code",
   "execution_count": 4,
   "id": "d3e339f5",
   "metadata": {},
   "outputs": [
    {
     "name": "stdout",
     "output_type": "stream",
     "text": [
      "[1, 2, 3, 4, 5, 6, 7, 8, 9, 10]\n"
     ]
    }
   ],
   "source": [
    "my_list = list(range(1, 11))\n",
    "print(my_list)"
   ]
  },
  {
   "cell_type": "markdown",
   "id": "1493e8fa",
   "metadata": {},
   "source": [
    "2. Find the length of a list without using the `len()` function."
   ]
  },
  {
   "cell_type": "code",
   "execution_count": 8,
   "id": "ace898ac",
   "metadata": {},
   "outputs": [
    {
     "name": "stdout",
     "output_type": "stream",
     "text": [
      "the length of the list is[1, 2, 3, 4, 5, 6, 7, 8, 9, 10]= 10\n"
     ]
    }
   ],
   "source": [
    "my_list = list(range(1, 11))\n",
    "count=0\n",
    "for i  in my_list:\n",
    "    count+=1\n",
    "print(f\"the length of the list is{my_list}= {count}\")"
   ]
  },
  {
   "cell_type": "markdown",
   "id": "4bc4836f",
   "metadata": {},
   "source": [
    "3. Append an element to the end of a list."
   ]
  },
  {
   "cell_type": "code",
   "execution_count": 11,
   "id": "bd848a2e",
   "metadata": {},
   "outputs": [
    {
     "name": "stdout",
     "output_type": "stream",
     "text": [
      "[1, 2, 3, 4, 5, 6]\n"
     ]
    }
   ],
   "source": [
    "my_list = [1, 2, 3, 4, 5]\n",
    "\n",
    "# Append an element to the end of the list\n",
    "my_list.append(6)\n",
    "\n",
    "# Now, the list contains [1, 2, 3, 4, 5, 6]\n",
    "print(my_list)"
   ]
  },
  {
   "cell_type": "markdown",
   "id": "fd4fd75c",
   "metadata": {},
   "source": [
    "4. Insert an element at a specific index in a list."
   ]
  },
  {
   "cell_type": "code",
   "execution_count": 12,
   "id": "258bdd8d",
   "metadata": {},
   "outputs": [
    {
     "name": "stdout",
     "output_type": "stream",
     "text": [
      "[1, 2, 6, 3, 4, 5]\n"
     ]
    }
   ],
   "source": [
    "my_list = [1, 2, 3, 4, 5]\n",
    "\n",
    "# Insert an element (e.g., 6) at index 2 (zero-based index)\n",
    "my_list.insert(2, 6)\n",
    "\n",
    "# Now, the list contains [1, 2, 6, 3, 4, 5]\n",
    "print(my_list)"
   ]
  },
  {
   "cell_type": "markdown",
   "id": "edcd8852",
   "metadata": {},
   "source": [
    "5. Remove an element from a list by its value."
   ]
  },
  {
   "cell_type": "code",
   "execution_count": 13,
   "id": "8e868808",
   "metadata": {},
   "outputs": [
    {
     "name": "stdout",
     "output_type": "stream",
     "text": [
      "[1, 2, 4, 5]\n"
     ]
    }
   ],
   "source": [
    "my_list = [1, 2, 3, 4, 5]\n",
    "\n",
    "# Remove the element with the value 3 from the list\n",
    "my_list.remove(3)\n",
    "\n",
    "# Now, the list contains [1, 2, 4, 5]\n",
    "print(my_list)"
   ]
  },
  {
   "cell_type": "markdown",
   "id": "9d8cdc1a",
   "metadata": {},
   "source": [
    "6. Remove an element from a list by its index."
   ]
  },
  {
   "cell_type": "code",
   "execution_count": 14,
   "id": "81e73219",
   "metadata": {},
   "outputs": [
    {
     "name": "stdout",
     "output_type": "stream",
     "text": [
      "[1, 2, 4, 5]\n"
     ]
    }
   ],
   "source": [
    "my_list = [1, 2, 3, 4, 5]\n",
    "\n",
    "# Remove the element at index 2 (zero-based index)\n",
    "removed_element = my_list.pop(2)\n",
    "\n",
    "# Now, the list contains [1, 2, 4, 5], and the removed_element is 3\n",
    "print(my_list)"
   ]
  },
  {
   "cell_type": "markdown",
   "id": "93fb5f8c",
   "metadata": {},
   "source": [
    "7. Check if an element exists in a list."
   ]
  },
  {
   "cell_type": "code",
   "execution_count": 15,
   "id": "8246e3a6",
   "metadata": {},
   "outputs": [
    {
     "name": "stdout",
     "output_type": "stream",
     "text": [
      "6 does not exist in the list\n"
     ]
    }
   ],
   "source": [
    "my_list = [1, 2, 3, 4, 5]\n",
    "\n",
    "# Check if an element (e.g., 6) does not exist in the list\n",
    "if 6 not in my_list:\n",
    "    print(\"6 does not exist in the list\")\n",
    "else:\n",
    "    print(\"6 exists in the list\")\n"
   ]
  },
  {
   "cell_type": "markdown",
   "id": "e54b0ea4",
   "metadata": {},
   "source": [
    "8. Find the index of the first occurrence of an element in a list."
   ]
  },
  {
   "cell_type": "code",
   "execution_count": 16,
   "id": "0fcc005d",
   "metadata": {},
   "outputs": [
    {
     "name": "stdout",
     "output_type": "stream",
     "text": [
      "The index of 3 is 2\n"
     ]
    }
   ],
   "source": [
    "my_list = [1, 2, 3, 4, 5]\n",
    "element_to_find = 3  # Element to search for\n",
    "\n",
    "# Check if the element exists in the list\n",
    "if element_to_find in my_list:\n",
    "    index = my_list.index(element_to_find)\n",
    "    print(f\"The index of {element_to_find} is {index}\")\n",
    "else:\n",
    "    print(f\"{element_to_find} is not in the list\")\n"
   ]
  },
  {
   "cell_type": "markdown",
   "id": "b61d0cf5",
   "metadata": {},
   "source": [
    "9. Count the occurrences of an element in a list.\n"
   ]
  },
  {
   "cell_type": "code",
   "execution_count": 17,
   "id": "8b5d358a",
   "metadata": {},
   "outputs": [
    {
     "name": "stdout",
     "output_type": "stream",
     "text": [
      "The element 2 appears 3 times in the list\n"
     ]
    }
   ],
   "source": [
    "my_list = [1, 2, 3, 2, 4, 2, 5]\n",
    "\n",
    "# Count the occurrences of an element (e.g., 2)\n",
    "element_to_count = 2\n",
    "\n",
    "occurrences = my_list.count(element_to_count)\n",
    "print(f\"The element {element_to_count} appears {occurrences} times in the list\")\n"
   ]
  },
  {
   "cell_type": "markdown",
   "id": "97eb1122",
   "metadata": {},
   "source": [
    "10. Reverse the order of elements in a list"
   ]
  },
  {
   "cell_type": "code",
   "execution_count": 18,
   "id": "f03cbe90",
   "metadata": {},
   "outputs": [
    {
     "name": "stdout",
     "output_type": "stream",
     "text": [
      "[5, 4, 3, 2, 1]\n"
     ]
    }
   ],
   "source": [
    "my_list = [1, 2, 3, 4, 5]\n",
    "\n",
    "# Reverse the order of elements in the list using slicing\n",
    "my_list = my_list[::-1]\n",
    "\n",
    "# Now, my_list contains [5, 4, 3, 2, 1]\n",
    "print(my_list)"
   ]
  },
  {
   "cell_type": "markdown",
   "id": "8fabdca9",
   "metadata": {},
   "source": [
    "11. Sort a list in ascending order."
   ]
  },
  {
   "cell_type": "code",
   "execution_count": 19,
   "id": "332e50c9",
   "metadata": {},
   "outputs": [
    {
     "name": "stdout",
     "output_type": "stream",
     "text": [
      "[1, 2, 3, 4, 5]\n"
     ]
    }
   ],
   "source": [
    "my_list = [5, 2, 1, 4, 3]\n",
    "\n",
    "# Sort the list in ascending order using the sort() method\n",
    "my_list.sort()\n",
    "\n",
    "# Now, my_list is sorted: [1, 2, 3, 4, 5]\n",
    "print(my_list)"
   ]
  },
  {
   "cell_type": "markdown",
   "id": "c912aa4b",
   "metadata": {},
   "source": [
    "12. Sort a list in descending order."
   ]
  },
  {
   "cell_type": "code",
   "execution_count": 20,
   "id": "5312cc86",
   "metadata": {},
   "outputs": [
    {
     "name": "stdout",
     "output_type": "stream",
     "text": [
      "[5, 4, 3, 2, 1]\n"
     ]
    }
   ],
   "source": [
    "my_list = [5, 2, 1, 4, 3]\n",
    "\n",
    "# Create a new sorted list in descending order using the sorted() function\n",
    "sorted_list = sorted(my_list, reverse=True)\n",
    "\n",
    "# Now, sorted_list contains the sorted elements in descending order: [5, 4, 3, 2, 1]\n",
    "# my_list remains unchanged: [5, 2, 1, 4, 3]\n",
    "print(sorted_list)"
   ]
  },
  {
   "cell_type": "markdown",
   "id": "ffb48539",
   "metadata": {},
   "source": [
    "13. Create a list of even numbers from 1 to 20.\n"
   ]
  },
  {
   "cell_type": "code",
   "execution_count": 21,
   "id": "9034acf4",
   "metadata": {},
   "outputs": [
    {
     "name": "stdout",
     "output_type": "stream",
     "text": [
      "[2, 4, 6, 8, 10, 12, 14, 16, 18, 20]\n"
     ]
    }
   ],
   "source": [
    "# Using a list comprehension to create a list of even numbers from 1 to 20\n",
    "even_numbers = [x for x in range(1, 21) if x % 2 == 0]\n",
    "\n",
    "# The resulting list contains even numbers from 2 to 20\n",
    "print(even_numbers )"
   ]
  },
  {
   "cell_type": "markdown",
   "id": "b0eaea4b",
   "metadata": {},
   "source": [
    "14. Create a list of odd numbers from 1 to 20.\n"
   ]
  },
  {
   "cell_type": "code",
   "execution_count": 22,
   "id": "c1af42fc",
   "metadata": {},
   "outputs": [
    {
     "name": "stdout",
     "output_type": "stream",
     "text": [
      "[1, 3, 5, 7, 9, 11, 13, 15, 17, 19]\n"
     ]
    }
   ],
   "source": [
    "# Using a list comprehension to create a list of odd numbers from 1 to 20\n",
    "odd_numbers = [x for x in range(1, 21) if x % 2 != 0]\n",
    "\n",
    "# The resulting list contains odd numbers from 1 to 19\n",
    "print(odd_numbers)"
   ]
  },
  {
   "cell_type": "markdown",
   "id": "9debfc44",
   "metadata": {},
   "source": [
    "15. Find the sum of all elements in a list.\n"
   ]
  },
  {
   "cell_type": "code",
   "execution_count": 23,
   "id": "55e3220f",
   "metadata": {},
   "outputs": [
    {
     "name": "stdout",
     "output_type": "stream",
     "text": [
      "15\n"
     ]
    }
   ],
   "source": [
    "my_list = [1, 2, 3, 4, 5]\n",
    "\n",
    "# Find the sum of all elements in the list\n",
    "total_sum = sum(my_list)\n",
    "\n",
    "# The total_sum variable now contains the sum of all elements in the list\n",
    "print(total_sum)"
   ]
  },
  {
   "cell_type": "markdown",
   "id": "a86ad554",
   "metadata": {},
   "source": [
    "16. Find the maximum value in a list."
   ]
  },
  {
   "cell_type": "code",
   "execution_count": 26,
   "id": "86ca4abd",
   "metadata": {},
   "outputs": [
    {
     "name": "stdout",
     "output_type": "stream",
     "text": [
      "9\n"
     ]
    }
   ],
   "source": [
    "my_list = [7, 2, 9, 4, 5]\n",
    "\n",
    "# Find the maximum value in the list\n",
    "max_value = max(my_list)\n",
    "\n",
    "# The max_value variable now contains the maximum value in the list\n",
    "print(max_value)"
   ]
  },
  {
   "cell_type": "markdown",
   "id": "3e3859d8",
   "metadata": {},
   "source": [
    "17. Find the minimum value in a list."
   ]
  },
  {
   "cell_type": "code",
   "execution_count": 27,
   "id": "1a5c44d9",
   "metadata": {},
   "outputs": [
    {
     "name": "stdout",
     "output_type": "stream",
     "text": [
      "2\n"
     ]
    }
   ],
   "source": [
    "my_list = [7, 2, 9, 4, 5]\n",
    "\n",
    "# Find the minimum value in the list\n",
    "min_value = min(my_list)\n",
    "\n",
    "# The min_value variable now contains the minimum value in the list\n",
    "print(min_value)"
   ]
  },
  {
   "cell_type": "markdown",
   "id": "51e0eed0",
   "metadata": {},
   "source": [
    "18. Create a list of squares of numbers from 1 to 10."
   ]
  },
  {
   "cell_type": "code",
   "execution_count": 28,
   "id": "2e061778",
   "metadata": {},
   "outputs": [
    {
     "name": "stdout",
     "output_type": "stream",
     "text": [
      "[1, 4, 9, 16, 25, 36, 49, 64, 81, 100]\n"
     ]
    }
   ],
   "source": [
    "# Using a list comprehension to create a list of squares of numbers from 1 to 10\n",
    "squares = [x ** 2 for x in range(1, 11)]\n",
    "\n",
    "# The resulting list contains squares of numbers from 1 to 10\n",
    "print(squares)"
   ]
  },
  {
   "cell_type": "markdown",
   "id": "54def115",
   "metadata": {},
   "source": [
    "19. Create a list of random numbers."
   ]
  },
  {
   "cell_type": "code",
   "execution_count": 32,
   "id": "2051f33b",
   "metadata": {},
   "outputs": [
    {
     "name": "stdout",
     "output_type": "stream",
     "text": [
      "[39, 50, 23, 77, 25]\n"
     ]
    }
   ],
   "source": [
    "import random\n",
    "\n",
    "# Create a list of 5 random numbers between 1 and 100\n",
    "random_numbers = [random.randint(1, 100) for _ in range(5)]\n",
    "\n",
    "# The resulting list contains 5 random numbers\n",
    "print(random_numbers)"
   ]
  },
  {
   "cell_type": "markdown",
   "id": "93c9d838",
   "metadata": {},
   "source": [
    "20. Remove duplicates from a list."
   ]
  },
  {
   "cell_type": "code",
   "execution_count": 33,
   "id": "e1b877fc",
   "metadata": {},
   "outputs": [
    {
     "name": "stdout",
     "output_type": "stream",
     "text": [
      "[1, 2, 3, 4, 5]\n"
     ]
    }
   ],
   "source": [
    "my_list = [1, 2, 2, 3, 4, 4, 5, 5]\n",
    "\n",
    "# Remove duplicates from the list\n",
    "unique_list = list(set(my_list))\n",
    "\n",
    "# The unique_list now contains elements with duplicates removed\n",
    "print(unique_list)"
   ]
  },
  {
   "cell_type": "markdown",
   "id": "5e76fd59",
   "metadata": {},
   "source": [
    "21. Find the common elements between two lists."
   ]
  },
  {
   "cell_type": "code",
   "execution_count": 34,
   "id": "b82d621e",
   "metadata": {},
   "outputs": [
    {
     "name": "stdout",
     "output_type": "stream",
     "text": [
      "[3, 4, 5]\n"
     ]
    }
   ],
   "source": [
    "list1 = [1, 2, 3, 4, 5]\n",
    "list2 = [3, 4, 5, 6, 7]\n",
    "\n",
    "# Convert lists to sets and find their intersection\n",
    "set1 = set(list1)\n",
    "set2 = set(list2)\n",
    "common_elements = list(set1.intersection(set2))\n",
    "\n",
    "# common_elements now contains [3, 4, 5], which are the common elements between the two lists\n",
    "print(common_elements)"
   ]
  },
  {
   "cell_type": "markdown",
   "id": "f0df94b8",
   "metadata": {},
   "source": [
    "22. Find the difference between two lists."
   ]
  },
  {
   "cell_type": "code",
   "execution_count": 36,
   "id": "1ab1d706",
   "metadata": {},
   "outputs": [
    {
     "name": "stdout",
     "output_type": "stream",
     "text": [
      "[1, 2]\n",
      "[6, 7]\n"
     ]
    }
   ],
   "source": [
    "list1 = [1, 2, 3, 4, 5]\n",
    "list2 = [3, 4, 5, 6, 7]\n",
    "\n",
    "# Find elements that are unique to each list using set difference\n",
    "difference_set1 = set(list1) - set(list2)\n",
    "difference_set2 = set(list2) - set(list1)\n",
    "\n",
    "# Convert sets back to lists if needed\n",
    "difference_list1 = list(difference_set1)\n",
    "difference_list2 = list(difference_set2)\n",
    "\n",
    "# difference_list1 contains [1, 2], elements unique to list1\n",
    "# difference_list2 contains [6, 7], elements unique to list2\n",
    "print(difference_list1)\n",
    "print(difference_list2)"
   ]
  },
  {
   "cell_type": "markdown",
   "id": "52040ee5",
   "metadata": {},
   "source": [
    "23. Merge two lists."
   ]
  },
  {
   "cell_type": "code",
   "execution_count": 37,
   "id": "1b4e2d00",
   "metadata": {},
   "outputs": [
    {
     "name": "stdout",
     "output_type": "stream",
     "text": [
      "[1, 2, 3, 4, 5, 6]\n"
     ]
    }
   ],
   "source": [
    "list1 = [1, 2, 3]\n",
    "list2 = [4, 5, 6]\n",
    "\n",
    "# Merge the two lists using the extend() method\n",
    "list1.extend(list2)\n",
    "\n",
    "# list1 is modified and now contains [1, 2, 3, 4, 5, 6]\n",
    "print(list1)"
   ]
  },
  {
   "cell_type": "markdown",
   "id": "84523c69",
   "metadata": {},
   "source": [
    "24. Multiply all elements in a list by 2."
   ]
  },
  {
   "cell_type": "code",
   "execution_count": 39,
   "id": "9e95c019",
   "metadata": {},
   "outputs": [
    {
     "name": "stdout",
     "output_type": "stream",
     "text": [
      "[2, 4, 6, 8, 10]\n"
     ]
    }
   ],
   "source": [
    "my_list = [1, 2, 3, 4, 5]\n",
    "\n",
    "# Multiply all elements in the list by 2 using a list comprehension\n",
    "doubled_list = [x * 2 for x in my_list]\n",
    "\n",
    "# The doubled_list now contains [2, 4, 6, 8, 10]\n",
    "print(doubled_list)"
   ]
  },
  {
   "cell_type": "markdown",
   "id": "ff399f68",
   "metadata": {},
   "source": [
    "25. Filter out all even numbers from a list"
   ]
  },
  {
   "cell_type": "code",
   "execution_count": 40,
   "id": "e28b579b",
   "metadata": {},
   "outputs": [
    {
     "name": "stdout",
     "output_type": "stream",
     "text": [
      "[1, 3, 5, 7, 9]\n"
     ]
    }
   ],
   "source": [
    "my_list = [1, 2, 3, 4, 5, 6, 7, 8, 9, 10]\n",
    "\n",
    "# Filter out even numbers from the list using a list comprehension\n",
    "filtered_list = [x for x in my_list if x % 2 != 0]\n",
    "\n",
    "# The filtered_list now contains [1, 3, 5, 7, 9], which are the odd numbers from the original list\n",
    "print(filtered_list)"
   ]
  },
  {
   "cell_type": "markdown",
   "id": "74ae8e6c",
   "metadata": {},
   "source": [
    "26. Convert a list of strings to a list of integers."
   ]
  },
  {
   "cell_type": "code",
   "execution_count": 41,
   "id": "2ed3bda9",
   "metadata": {},
   "outputs": [
    {
     "name": "stdout",
     "output_type": "stream",
     "text": [
      "[1, 2, 3, 4, 5]\n"
     ]
    }
   ],
   "source": [
    "string_list = [\"1\", \"2\", \"3\", \"4\", \"5\"]\n",
    "\n",
    "# Convert the list of strings to a list of integers using a list comprehension\n",
    "integer_list = [int(x) for x in string_list]\n",
    "\n",
    "# The integer_list now contains [1, 2, 3, 4, 5], with integers instead of strings\n",
    "print(integer_list)"
   ]
  },
  {
   "cell_type": "markdown",
   "id": "bdb73031",
   "metadata": {},
   "source": [
    "27. Convert a list of integers to a list of strings."
   ]
  },
  {
   "cell_type": "code",
   "execution_count": 42,
   "id": "db8e2128",
   "metadata": {},
   "outputs": [
    {
     "name": "stdout",
     "output_type": "stream",
     "text": [
      "['1', '2', '3', '4', '5']\n"
     ]
    }
   ],
   "source": [
    "integer_list = [1, 2, 3, 4, 5]\n",
    "\n",
    "# Convert the list of integers to a list of strings using a list comprehension\n",
    "string_list = [str(x) for x in integer_list]\n",
    "\n",
    "# The string_list now contains ['1', '2', '3', '4', '5'], with strings instead of integers\n",
    "print(string_list)"
   ]
  },
  {
   "cell_type": "markdown",
   "id": "d15104d5",
   "metadata": {},
   "source": [
    "28. Flatten a nested list."
   ]
  },
  {
   "cell_type": "code",
   "execution_count": 43,
   "id": "4f8ddcb0",
   "metadata": {},
   "outputs": [
    {
     "name": "stdout",
     "output_type": "stream",
     "text": [
      "[1, 2, 3, 4, 5, 6, 7, 8]\n"
     ]
    }
   ],
   "source": [
    "nested_list = [[1, 2, 3], [4, 5], [6, 7, 8]]\n",
    "\n",
    "# Flatten the nested list using a list comprehension\n",
    "flattened_list = [item for sublist in nested_list for item in sublist]\n",
    "\n",
    "# The flattened_list now contains [1, 2, 3, 4, 5, 6, 7, 8]\n",
    "print(flattened_list)"
   ]
  },
  {
   "cell_type": "markdown",
   "id": "e5bdc807",
   "metadata": {},
   "source": [
    "29. Create a list of the first 10 Fibonacci numbers."
   ]
  },
  {
   "cell_type": "code",
   "execution_count": 44,
   "id": "0d654bec",
   "metadata": {},
   "outputs": [
    {
     "name": "stdout",
     "output_type": "stream",
     "text": [
      "[0, 1, 1, 2, 3, 5, 8, 13, 21, 34]\n"
     ]
    }
   ],
   "source": [
    "# Initialize the first two Fibonacci numbers\n",
    "fibonacci_numbers = [0, 1]\n",
    "\n",
    "# Calculate the next 8 Fibonacci numbers and add them to the list\n",
    "for i in range(2, 10):\n",
    "    next_fibonacci = fibonacci_numbers[i - 1] + fibonacci_numbers[i - 2]\n",
    "    fibonacci_numbers.append(next_fibonacci)\n",
    "\n",
    "# The fibonacci_numbers list now contains the first 10 Fibonacci numbers\n",
    "print(fibonacci_numbers)"
   ]
  },
  {
   "cell_type": "markdown",
   "id": "190ae3ec",
   "metadata": {},
   "source": [
    "30. Check if a list is sorted."
   ]
  },
  {
   "cell_type": "code",
   "execution_count": 45,
   "id": "00f60fb3",
   "metadata": {},
   "outputs": [
    {
     "name": "stdout",
     "output_type": "stream",
     "text": [
      "True\n"
     ]
    }
   ],
   "source": [
    "def is_sorted(lst):\n",
    "    return all(lst[i] <= lst[i + 1] for i in range(len(lst) - 1))\n",
    "\n",
    "# Example usage:\n",
    "my_list = [1, 2, 3, 4, 5]\n",
    "sorted_status = is_sorted(my_list)\n",
    "\n",
    "# sorted_status is True because my_list is sorted in ascending order\n",
    "print(sorted_status)"
   ]
  },
  {
   "cell_type": "markdown",
   "id": "57989758",
   "metadata": {},
   "source": [
    "31. Rotate a list to the left by `n` positions.\n"
   ]
  },
  {
   "cell_type": "code",
   "execution_count": 46,
   "id": "0b2f2956",
   "metadata": {},
   "outputs": [
    {
     "name": "stdout",
     "output_type": "stream",
     "text": [
      "[3, 4, 5, 1, 2]\n"
     ]
    }
   ],
   "source": [
    "def rotate_left(lst, n):\n",
    "    # Ensure n is within the range of the list length\n",
    "    n = n % len(lst)\n",
    "\n",
    "    # Slice the list to perform the left rotation\n",
    "    rotated_list = lst[n:] + lst[:n]\n",
    "\n",
    "    return rotated_list\n",
    "\n",
    "# Example usage:\n",
    "my_list = [1, 2, 3, 4, 5]\n",
    "n = 2  # Rotate by 2 positions to the left\n",
    "rotated_result = rotate_left(my_list, n)\n",
    "\n",
    "# rotated_result is [3, 4, 5, 1, 2]\n",
    "print(rotated_result)\n"
   ]
  },
  {
   "cell_type": "markdown",
   "id": "ac1b99ff",
   "metadata": {},
   "source": [
    "32. Rotate a list to the right by `n` positions.\n"
   ]
  },
  {
   "cell_type": "code",
   "execution_count": 48,
   "id": "189bde8c",
   "metadata": {},
   "outputs": [
    {
     "name": "stdout",
     "output_type": "stream",
     "text": [
      "[4, 5, 1, 2, 3]\n"
     ]
    }
   ],
   "source": [
    "def rotate_right(lst, n):\n",
    "    # Ensure n is within the range of the list length\n",
    "    n = n % len(lst)\n",
    "\n",
    "    # Slice the list to perform the right rotation\n",
    "    rotated_list = lst[-n:] + lst[:-n]\n",
    "\n",
    "    return rotated_list\n",
    "\n",
    "# Example usage:\n",
    "my_list = [1, 2, 3, 4, 5]\n",
    "n = 2  # Rotate by 2 positions to the right\n",
    "rotated_result = rotate_right(my_list, n)\n",
    "\n",
    "# rotated_result is [4, 5, 1, 2, 3]\n",
    "print(rotated_result)"
   ]
  },
  {
   "cell_type": "markdown",
   "id": "d035a9a8",
   "metadata": {},
   "source": [
    "33. Create a list of prime numbers up to 50."
   ]
  },
  {
   "cell_type": "code",
   "execution_count": 1,
   "id": "0f62508f",
   "metadata": {},
   "outputs": [
    {
     "name": "stdout",
     "output_type": "stream",
     "text": [
      "[2, 3, 5, 7, 11, 13, 17, 19, 23, 29, 31, 37, 41, 43, 47]\n"
     ]
    }
   ],
   "source": [
    "def generate_primes(limit):\n",
    "    primes = []\n",
    "    for num in range(2, limit + 1):\n",
    "        is_prime = True\n",
    "        for divisor in range(2, int(num**0.5) + 1):\n",
    "            if num % divisor == 0:\n",
    "                is_prime = False\n",
    "                break\n",
    "        if is_prime:\n",
    "            primes.append(num)\n",
    "    return primes\n",
    "\n",
    "limit = 50\n",
    "prime_list = generate_primes(limit)\n",
    "print(prime_list)\n"
   ]
  },
  {
   "cell_type": "markdown",
   "id": "3ba1d8f5",
   "metadata": {},
   "source": [
    "34. Split a list into chunks of size `n`.\n"
   ]
  },
  {
   "cell_type": "code",
   "execution_count": 2,
   "id": "8d47e0a3",
   "metadata": {},
   "outputs": [
    {
     "name": "stdout",
     "output_type": "stream",
     "text": [
      "[[1, 2, 3], [4, 5, 6], [7, 8, 9], [10]]\n"
     ]
    }
   ],
   "source": [
    "def split_into_chunks(lst, n):\n",
    "    for i in range(0, len(lst), n):\n",
    "        yield lst[i:i + n]\n",
    "\n",
    "# Example usage:\n",
    "my_list = [1, 2, 3, 4, 5, 6, 7, 8, 9, 10]\n",
    "chunk_size = 3\n",
    "chunks = list(split_into_chunks(my_list, chunk_size))\n",
    "\n",
    "print(chunks)\n"
   ]
  },
  {
   "cell_type": "markdown",
   "id": "9d18a33d",
   "metadata": {},
   "source": [
    "35. Find the second largest number in a list."
   ]
  },
  {
   "cell_type": "code",
   "execution_count": 3,
   "id": "fa5dc3c1",
   "metadata": {},
   "outputs": [
    {
     "name": "stdout",
     "output_type": "stream",
     "text": [
      "The second largest number is: 10\n"
     ]
    }
   ],
   "source": [
    "def find_second_largest(lst):\n",
    "    if len(lst) < 2:\n",
    "        return \"List must have at least two elements\"\n",
    "    \n",
    "    largest = second_largest = float('-inf')\n",
    "    \n",
    "    for num in lst:\n",
    "        if num > largest:\n",
    "            second_largest = largest\n",
    "            largest = num\n",
    "        elif num > second_largest and num != largest:\n",
    "            second_largest = num\n",
    "            \n",
    "    if second_largest == float('-inf'):\n",
    "        return \"There is no second largest element in the list\"\n",
    "    \n",
    "    return second_largest\n",
    "\n",
    "# Example usage:\n",
    "my_list = [10, 5, 7, 3, 9, 11, 8]\n",
    "second_largest = find_second_largest(my_list)\n",
    "\n",
    "print(\"The second largest number is:\", second_largest)\n"
   ]
  },
  {
   "cell_type": "markdown",
   "id": "6c3e33b5",
   "metadata": {},
   "source": [
    "36. Replace every element in a list with its square."
   ]
  },
  {
   "cell_type": "code",
   "execution_count": 4,
   "id": "244b139d",
   "metadata": {},
   "outputs": [
    {
     "name": "stdout",
     "output_type": "stream",
     "text": [
      "[1, 4, 9, 16, 25]\n"
     ]
    }
   ],
   "source": [
    "def square_elements(lst):\n",
    "    return [x ** 2 for x in lst]\n",
    "\n",
    "# Example usage:\n",
    "my_list = [1, 2, 3, 4, 5]\n",
    "my_list = square_elements(my_list)\n",
    "print(my_list)\n"
   ]
  },
  {
   "cell_type": "markdown",
   "id": "c7ddfcef",
   "metadata": {},
   "source": [
    "37. Convert a list to a dictionary where list elements become keys and their\n",
    "indices become values."
   ]
  },
  {
   "cell_type": "code",
   "execution_count": 5,
   "id": "8de32d33",
   "metadata": {},
   "outputs": [
    {
     "name": "stdout",
     "output_type": "stream",
     "text": [
      "{'apple': 0, 'banana': 1, 'cherry': 2, 'date': 3}\n"
     ]
    }
   ],
   "source": [
    "def list_to_dict(lst):\n",
    "    return {value: index for index, value in enumerate(lst)}\n",
    "\n",
    "# Example usage:\n",
    "my_list = ['apple', 'banana', 'cherry', 'date']\n",
    "my_dict = list_to_dict(my_list)\n",
    "print(my_dict)\n"
   ]
  },
  {
   "cell_type": "markdown",
   "id": "7f54b0bd",
   "metadata": {},
   "source": [
    "38. Shuffle the elements of a list randomly.\n"
   ]
  },
  {
   "cell_type": "code",
   "execution_count": 6,
   "id": "31933003",
   "metadata": {},
   "outputs": [
    {
     "name": "stdout",
     "output_type": "stream",
     "text": [
      "[2, 4, 5, 3, 1]\n"
     ]
    }
   ],
   "source": [
    "import random\n",
    "\n",
    "def shuffle_list(lst):\n",
    "    random.shuffle(lst)\n",
    "\n",
    "# Example usage:\n",
    "my_list = [1, 2, 3, 4, 5]\n",
    "shuffle_list(my_list)\n",
    "print(my_list)\n"
   ]
  },
  {
   "cell_type": "markdown",
   "id": "34bbad5a",
   "metadata": {},
   "source": [
    "39. Create a list of the first 10 factorial numbers.\n"
   ]
  },
  {
   "cell_type": "code",
   "execution_count": 7,
   "id": "99026d83",
   "metadata": {},
   "outputs": [
    {
     "name": "stdout",
     "output_type": "stream",
     "text": [
      "[1, 1, 2, 6, 24, 120, 720, 5040, 40320, 362880]\n"
     ]
    }
   ],
   "source": [
    "def factorial(n):\n",
    "    if n == 0:\n",
    "        return 1\n",
    "    else:\n",
    "        return n * factorial(n - 1)\n",
    "\n",
    "first_10_factorials = [factorial(i) for i in range(10)]\n",
    "\n",
    "print(first_10_factorials)\n"
   ]
  },
  {
   "cell_type": "markdown",
   "id": "f9b86837",
   "metadata": {},
   "source": [
    "40. Check if two lists have at least one element in common."
   ]
  },
  {
   "cell_type": "code",
   "execution_count": 8,
   "id": "af8ea334",
   "metadata": {},
   "outputs": [
    {
     "name": "stdout",
     "output_type": "stream",
     "text": [
      "The lists have at least one common element.\n"
     ]
    }
   ],
   "source": [
    "def have_common_element(list1, list2):\n",
    "    set1 = set(list1)\n",
    "    set2 = set(list2)\n",
    "    return bool(set1.intersection(set2))\n",
    "\n",
    "# Example usage:\n",
    "list1 = [1, 2, 3, 4, 5]\n",
    "list2 = [4, 5, 6, 7, 8]\n",
    "result = have_common_element(list1, list2)\n",
    "\n",
    "if result:\n",
    "    print(\"The lists have at least one common element.\")\n",
    "else:\n",
    "    print(\"The lists do not have any common elements.\")\n"
   ]
  },
  {
   "cell_type": "markdown",
   "id": "77a39905",
   "metadata": {},
   "source": [
    "41. Remove all elements from a list."
   ]
  },
  {
   "cell_type": "code",
   "execution_count": 9,
   "id": "9eebbb13",
   "metadata": {},
   "outputs": [
    {
     "name": "stdout",
     "output_type": "stream",
     "text": [
      "[]\n"
     ]
    }
   ],
   "source": [
    "my_list = [1, 2, 3, 4, 5]\n",
    "my_list.clear()  # Removes all elements from the list\n",
    "print(my_list)  # Outputs an empty list: []\n"
   ]
  },
  {
   "cell_type": "markdown",
   "id": "09dd63a7",
   "metadata": {},
   "source": [
    "42. Replace negative numbers in a list with 0."
   ]
  },
  {
   "cell_type": "code",
   "execution_count": 10,
   "id": "eaf008f5",
   "metadata": {},
   "outputs": [
    {
     "name": "stdout",
     "output_type": "stream",
     "text": [
      "[1, 0, 3, 0, 5]\n"
     ]
    }
   ],
   "source": [
    "def replace_negatives_with_zero(lst):\n",
    "    return [0 if x < 0 else x for x in lst]\n",
    "\n",
    "# Example usage:\n",
    "my_list = [1, -2, 3, -4, 5]\n",
    "my_list = replace_negatives_with_zero(my_list)\n",
    "print(my_list)  # Outputs: [1, 0, 3, 0, 5]\n"
   ]
  },
  {
   "cell_type": "markdown",
   "id": "22a01be1",
   "metadata": {},
   "source": [
    "43. Convert a string into a list of words."
   ]
  },
  {
   "cell_type": "code",
   "execution_count": 11,
   "id": "bfb5695e",
   "metadata": {},
   "outputs": [
    {
     "name": "stdout",
     "output_type": "stream",
     "text": [
      "['This', 'is', 'a', 'sample', 'sentence.']\n"
     ]
    }
   ],
   "source": [
    "# Input string\n",
    "input_string = \"This is a sample sentence.\"\n",
    "\n",
    "# Convert the string into a list of words\n",
    "word_list = input_string.split()\n",
    "\n",
    "# Print the list of words\n",
    "print(word_list)\n"
   ]
  },
  {
   "cell_type": "markdown",
   "id": "6769cf6f",
   "metadata": {},
   "source": [
    "44. Convert a list of words into a string."
   ]
  },
  {
   "cell_type": "code",
   "execution_count": 12,
   "id": "5499e9d8",
   "metadata": {},
   "outputs": [
    {
     "name": "stdout",
     "output_type": "stream",
     "text": [
      "This is a sample list of words\n"
     ]
    }
   ],
   "source": [
    "# List of words\n",
    "word_list = ['This', 'is', 'a', 'sample', 'list', 'of', 'words']\n",
    "\n",
    "# Convert the list of words into a string with space as the delimiter\n",
    "result_string = ' '.join(word_list)\n",
    "\n",
    "# Print the resulting string\n",
    "print(result_string)\n"
   ]
  },
  {
   "cell_type": "markdown",
   "id": "75f9bddf",
   "metadata": {},
   "source": [
    "45. Create a list of the first `n` powers of 2.\n"
   ]
  },
  {
   "cell_type": "code",
   "execution_count": 13,
   "id": "5b601055",
   "metadata": {},
   "outputs": [
    {
     "name": "stdout",
     "output_type": "stream",
     "text": [
      "[1, 2, 4, 8, 16]\n"
     ]
    }
   ],
   "source": [
    "n = 5  # Change this value to the number of powers of 2 you want\n",
    "powers_of_2 = [2 ** i for i in range(n)]\n",
    "\n",
    "print(powers_of_2)\n"
   ]
  },
  {
   "cell_type": "markdown",
   "id": "cd4093d4",
   "metadata": {},
   "source": [
    "46. Find the longest string in a list of strings."
   ]
  },
  {
   "cell_type": "code",
   "execution_count": 14,
   "id": "6e67dd37",
   "metadata": {},
   "outputs": [
    {
     "name": "stdout",
     "output_type": "stream",
     "text": [
      "The longest string is: banana\n"
     ]
    }
   ],
   "source": [
    "def find_longest_string(string_list):\n",
    "    if not string_list:\n",
    "        return None  # Return None for an empty list\n",
    "\n",
    "    longest_string = string_list[0]  # Assume the first string is the longest\n",
    "\n",
    "    for string in string_list:\n",
    "        if len(string) > len(longest_string):\n",
    "            longest_string = string\n",
    "\n",
    "    return longest_string\n",
    "\n",
    "# Example usage:\n",
    "my_list = [\"apple\", \"banana\", \"cherry\", \"date\", \"kiwi\"]\n",
    "longest = find_longest_string(my_list)\n",
    "\n",
    "if longest is not None:\n",
    "    print(\"The longest string is:\", longest)\n",
    "else:\n",
    "    print(\"The list is empty.\")\n"
   ]
  },
  {
   "cell_type": "markdown",
   "id": "a95a8475",
   "metadata": {},
   "source": [
    "47. Find the shortest string in a list of strings."
   ]
  },
  {
   "cell_type": "code",
   "execution_count": 15,
   "id": "1733b349",
   "metadata": {},
   "outputs": [
    {
     "name": "stdout",
     "output_type": "stream",
     "text": [
      "The shortest string is: date\n"
     ]
    }
   ],
   "source": [
    "def find_shortest_string(string_list):\n",
    "    if not string_list:\n",
    "        return None  # Return None for an empty list\n",
    "\n",
    "    shortest_string = string_list[0]  # Assume the first string is the shortest\n",
    "\n",
    "    for string in string_list:\n",
    "        if len(string) < len(shortest_string):\n",
    "            shortest_string = string\n",
    "\n",
    "    return shortest_string\n",
    "\n",
    "# Example usage:\n",
    "my_list = [\"apple\", \"banana\", \"cherry\", \"date\", \"kiwi\"]\n",
    "shortest = find_shortest_string(my_list)\n",
    "\n",
    "if shortest is not None:\n",
    "    print(\"The shortest string is:\", shortest)\n",
    "else:\n",
    "    print(\"The list is empty.\")\n"
   ]
  },
  {
   "cell_type": "markdown",
   "id": "808f3966",
   "metadata": {},
   "source": [
    "48. Create a list of the first `n` triangular numbers."
   ]
  },
  {
   "cell_type": "code",
   "execution_count": 16,
   "id": "d75e929e",
   "metadata": {},
   "outputs": [
    {
     "name": "stdout",
     "output_type": "stream",
     "text": [
      "[1, 3, 6, 10, 15]\n"
     ]
    }
   ],
   "source": [
    "def generate_triangular_numbers(n):\n",
    "    triangular_numbers = []\n",
    "    total = 0\n",
    "    for i in range(1, n + 1):\n",
    "        total += i\n",
    "        triangular_numbers.append(total)\n",
    "    return triangular_numbers\n",
    "\n",
    "# Example usage:\n",
    "n = 5  # Change this value to the number of triangular numbers you want\n",
    "triangular_list = generate_triangular_numbers(n)\n",
    "\n",
    "print(triangular_list)\n"
   ]
  },
  {
   "cell_type": "markdown",
   "id": "3a47e646",
   "metadata": {},
   "source": [
    "49. Check if a list contains another list as a subsequence."
   ]
  },
  {
   "cell_type": "code",
   "execution_count": 17,
   "id": "83b3af6e",
   "metadata": {},
   "outputs": [
    {
     "name": "stdout",
     "output_type": "stream",
     "text": [
      "The subsequence is present in the main list.\n"
     ]
    }
   ],
   "source": [
    "def is_subsequence(subsequence, main_list):\n",
    "    sub_len = len(subsequence)\n",
    "    main_len = len(main_list)\n",
    "\n",
    "    if sub_len > main_len:\n",
    "        return False\n",
    "\n",
    "    sub_idx = 0\n",
    "\n",
    "    for element in main_list:\n",
    "        if subsequence[sub_idx] == element:\n",
    "            sub_idx += 1\n",
    "\n",
    "        if sub_idx == sub_len:\n",
    "            return True\n",
    "\n",
    "    return False\n",
    "\n",
    "# Example usage:\n",
    "main_list = [1, 2, 3, 4, 5, 6]\n",
    "subsequence = [2, 4, 6]\n",
    "\n",
    "if is_subsequence(subsequence, main_list):\n",
    "    print(\"The subsequence is present in the main list.\")\n",
    "else:\n",
    "    print(\"The subsequence is not present in the main list.\")\n"
   ]
  },
  {
   "cell_type": "markdown",
   "id": "178df1ac",
   "metadata": {},
   "source": [
    "50. Swap two elements in a list by their indices."
   ]
  },
  {
   "cell_type": "code",
   "execution_count": 18,
   "id": "349bf49a",
   "metadata": {},
   "outputs": [
    {
     "name": "stdout",
     "output_type": "stream",
     "text": [
      "Swapped elements at indices 1 and 3: [1, 4, 3, 2, 5]\n"
     ]
    }
   ],
   "source": [
    "def swap_elements(lst, index1, index2):\n",
    "    # Check if the indices are within the bounds of the list\n",
    "    if 0 <= index1 < len(lst) and 0 <= index2 < len(lst):\n",
    "        # Use a temporary variable to swap the elements\n",
    "        temp = lst[index1]\n",
    "        lst[index1] = lst[index2]\n",
    "        lst[index2] = temp\n",
    "        return True  # Return True to indicate successful swap\n",
    "    else:\n",
    "        return False  # Return False if indices are out of bounds\n",
    "\n",
    "# Example usage:\n",
    "my_list = [1, 2, 3, 4, 5]\n",
    "index1 = 1\n",
    "index2 = 3\n",
    "\n",
    "if swap_elements(my_list, index1, index2):\n",
    "    print(f\"Swapped elements at indices {index1} and {index2}: {my_list}\")\n",
    "else:\n",
    "    print(\"Indices are out of bounds, swap failed.\")\n"
   ]
  },
  {
   "cell_type": "markdown",
   "id": "e8e437cd",
   "metadata": {},
   "source": [
    "#Tuple Based Practice Problem :\n"
   ]
  },
  {
   "cell_type": "markdown",
   "id": "c633e9a4",
   "metadata": {},
   "source": [
    "1. Create a tuple with integers from 1 to 5"
   ]
  },
  {
   "cell_type": "code",
   "execution_count": 19,
   "id": "e941d4bb",
   "metadata": {},
   "outputs": [
    {
     "name": "stdout",
     "output_type": "stream",
     "text": [
      "(1, 2, 3, 4, 5)\n"
     ]
    }
   ],
   "source": [
    "my_tuple = (1, 2, 3, 4, 5)\n",
    "print(my_tuple)"
   ]
  },
  {
   "cell_type": "markdown",
   "id": "6a326cd3",
   "metadata": {},
   "source": [
    "2. Access the third element of a tuple.\n"
   ]
  },
  {
   "cell_type": "code",
   "execution_count": 20,
   "id": "caf3088d",
   "metadata": {},
   "outputs": [
    {
     "name": "stdout",
     "output_type": "stream",
     "text": [
      "The third element is: 3\n"
     ]
    }
   ],
   "source": [
    "my_tuple = (1, 2, 3, 4, 5)\n",
    "third_element = my_tuple[2]\n",
    "\n",
    "print(\"The third element is:\", third_element)\n"
   ]
  },
  {
   "cell_type": "markdown",
   "id": "a260026a",
   "metadata": {},
   "source": [
    "3. Find the length of a tuple without using the `len()` function."
   ]
  },
  {
   "cell_type": "code",
   "execution_count": 21,
   "id": "5831b41e",
   "metadata": {},
   "outputs": [
    {
     "name": "stdout",
     "output_type": "stream",
     "text": [
      "The length of the tuple is: 5\n"
     ]
    }
   ],
   "source": [
    "def find_tuple_length(my_tuple):\n",
    "    count = 0\n",
    "    for _ in my_tuple:\n",
    "        count += 1\n",
    "    return count\n",
    "\n",
    "# Example usage:\n",
    "my_tuple = (1, 2, 3, 4, 5)\n",
    "length = find_tuple_length(my_tuple)\n",
    "\n",
    "print(\"The length of the tuple is:\", length)\n"
   ]
  },
  {
   "cell_type": "markdown",
   "id": "bd455bfe",
   "metadata": {},
   "source": [
    "4. Count the occurrences of an element in a tuple."
   ]
  },
  {
   "cell_type": "code",
   "execution_count": 22,
   "id": "62e4e966",
   "metadata": {},
   "outputs": [
    {
     "name": "stdout",
     "output_type": "stream",
     "text": [
      "The element 2 appears 4 times in the tuple.\n"
     ]
    }
   ],
   "source": [
    "my_tuple = (1, 2, 2, 3, 2, 4, 5, 2)\n",
    "element_to_count = 2\n",
    "\n",
    "count = my_tuple.count(element_to_count)\n",
    "\n",
    "print(f\"The element {element_to_count} appears {count} times in the tuple.\")\n"
   ]
  },
  {
   "cell_type": "markdown",
   "id": "15274fcf",
   "metadata": {},
   "source": [
    "5. Find the index of the first occurrence of an element in a tuple.\n"
   ]
  },
  {
   "cell_type": "code",
   "execution_count": 1,
   "id": "9a1d9f18",
   "metadata": {},
   "outputs": [
    {
     "name": "stdout",
     "output_type": "stream",
     "text": [
      "Index of the first occurrence of 20 is: 1\n"
     ]
    }
   ],
   "source": [
    "# Create a tuple\n",
    "my_tuple = (10, 20, 30, 40, 50, 20)\n",
    "\n",
    "# Element to search for\n",
    "element_to_find = 20\n",
    "\n",
    "# Find the index of the first occurrence of the element\n",
    "index = my_tuple.index(element_to_find)\n",
    "\n",
    "# Print the index\n",
    "print(\"Index of the first occurrence of\", element_to_find, \"is:\", index)\n"
   ]
  },
  {
   "cell_type": "markdown",
   "id": "01c4ec66",
   "metadata": {},
   "source": [
    "6. Check if an element exists in a tuple."
   ]
  },
  {
   "cell_type": "code",
   "execution_count": 2,
   "id": "dd0c3f71",
   "metadata": {},
   "outputs": [
    {
     "name": "stdout",
     "output_type": "stream",
     "text": [
      "30 exists in the tuple.\n"
     ]
    }
   ],
   "source": [
    "# Create a tuple\n",
    "my_tuple = (10, 20, 30, 40, 50)\n",
    "\n",
    "# Element to check\n",
    "element_to_check = 30\n",
    "\n",
    "# Check if the element exists in the tuple\n",
    "if element_to_check in my_tuple:\n",
    "    print(element_to_check, \"exists in the tuple.\")\n",
    "else:\n",
    "    print(element_to_check, \"does not exist in the tuple.\")\n"
   ]
  },
  {
   "cell_type": "markdown",
   "id": "8539ec27",
   "metadata": {},
   "source": [
    "7. Convert a tuple to a list."
   ]
  },
  {
   "cell_type": "code",
   "execution_count": 3,
   "id": "cbc1a5c6",
   "metadata": {},
   "outputs": [
    {
     "name": "stdout",
     "output_type": "stream",
     "text": [
      "[10, 20, 30, 40, 50]\n"
     ]
    }
   ],
   "source": [
    "# Create a tuple\n",
    "my_tuple = (10, 20, 30, 40, 50)\n",
    "\n",
    "# Convert the tuple to a list using a list comprehension\n",
    "my_list = [x for x in my_tuple]\n",
    "\n",
    "# Print the resulting list\n",
    "print(my_list)\n"
   ]
  },
  {
   "cell_type": "markdown",
   "id": "956e8bc3",
   "metadata": {},
   "source": [
    "8. Convert a list to a tuple."
   ]
  },
  {
   "cell_type": "code",
   "execution_count": 4,
   "id": "3884d197",
   "metadata": {},
   "outputs": [
    {
     "name": "stdout",
     "output_type": "stream",
     "text": [
      "(10, 20, 30, 40, 50)\n"
     ]
    }
   ],
   "source": [
    "# Create a list\n",
    "my_list = [10, 20, 30, 40, 50]\n",
    "\n",
    "# Convert the list to a tuple\n",
    "my_tuple = tuple(my_list)\n",
    "\n",
    "# Print the resulting tuple\n",
    "print(my_tuple)\n"
   ]
  },
  {
   "cell_type": "markdown",
   "id": "0d7ad4cf",
   "metadata": {},
   "source": [
    "9. Unpack the elements of a tuple into variables.\n"
   ]
  },
  {
   "cell_type": "code",
   "execution_count": 5,
   "id": "c2d763bc",
   "metadata": {},
   "outputs": [
    {
     "name": "stdout",
     "output_type": "stream",
     "text": [
      "a: 10\n",
      "b: 20\n",
      "c: 30\n"
     ]
    }
   ],
   "source": [
    "# Create a tuple\n",
    "my_tuple = (10, 20, 30)\n",
    "\n",
    "# Unpack the elements into variables\n",
    "a, b, c = my_tuple\n",
    "\n",
    "# Now, the values from the tuple are assigned to the variables a, b, and c\n",
    "print(\"a:\", a)\n",
    "print(\"b:\", b)\n",
    "print(\"c:\", c)\n"
   ]
  },
  {
   "cell_type": "markdown",
   "id": "5ea10a31",
   "metadata": {},
   "source": [
    "10. Create a tuple of even numbers from 1 to 10."
   ]
  },
  {
   "cell_type": "code",
   "execution_count": 6,
   "id": "29818c1f",
   "metadata": {},
   "outputs": [
    {
     "name": "stdout",
     "output_type": "stream",
     "text": [
      "(2, 4, 6, 8, 10)\n"
     ]
    }
   ],
   "source": [
    "# Using a list comprehension to generate even numbers from 1 to 10\n",
    "even_numbers_list = [x for x in range(1, 11) if x % 2 == 0]\n",
    "\n",
    "# Convert the list to a tuple\n",
    "even_numbers_tuple = tuple(even_numbers_list)\n",
    "\n",
    "# Print the resulting tuple\n",
    "print(even_numbers_tuple)\n"
   ]
  },
  {
   "cell_type": "markdown",
   "id": "96d291aa",
   "metadata": {},
   "source": [
    "11. Create a tuple of odd numbers from 1 to 10.\n"
   ]
  },
  {
   "cell_type": "code",
   "execution_count": 1,
   "id": "9d9a55de",
   "metadata": {},
   "outputs": [
    {
     "name": "stdout",
     "output_type": "stream",
     "text": [
      "(1, 3, 5, 7, 9)\n"
     ]
    }
   ],
   "source": [
    "# Using a list comprehension to generate odd numbers from 1 to 10\n",
    "odd_numbers_list = [x for x in range(1, 11) if x % 2 != 0]\n",
    "\n",
    "# Convert the list to a tuple\n",
    "odd_numbers_tuple = tuple(odd_numbers_list)\n",
    "\n",
    "# Print the resulting tuple\n",
    "print(odd_numbers_tuple)\n"
   ]
  },
  {
   "cell_type": "markdown",
   "id": "5620cb6c",
   "metadata": {},
   "source": [
    "12. Concatenate two tuples."
   ]
  },
  {
   "cell_type": "code",
   "execution_count": 2,
   "id": "c3bfaad1",
   "metadata": {},
   "outputs": [
    {
     "name": "stdout",
     "output_type": "stream",
     "text": [
      "(1, 2, 3, 4, 5, 6)\n"
     ]
    }
   ],
   "source": [
    "# Two example tuples\n",
    "tuple1 = (1, 2, 3)\n",
    "tuple2 = (4, 5, 6)\n",
    "\n",
    "# Concatenate the two tuples\n",
    "concatenated_tuple = tuple1 + tuple2\n",
    "\n",
    "# Print the concatenated tuple\n",
    "print(concatenated_tuple)\n"
   ]
  },
  {
   "cell_type": "markdown",
   "id": "40421ee4",
   "metadata": {},
   "source": [
    "13. Repeat a tuple three times.\n"
   ]
  },
  {
   "cell_type": "code",
   "execution_count": 3,
   "id": "9fc84a78",
   "metadata": {},
   "outputs": [
    {
     "name": "stdout",
     "output_type": "stream",
     "text": [
      "(1, 2, 3, 1, 2, 3, 1, 2, 3)\n"
     ]
    }
   ],
   "source": [
    "# An example tuple\n",
    "original_tuple = (1, 2, 3)\n",
    "\n",
    "# Repeat the tuple three times\n",
    "repeated_tuple = original_tuple * 3\n",
    "\n",
    "# Print the repeated tuple\n",
    "print(repeated_tuple)\n"
   ]
  },
  {
   "cell_type": "markdown",
   "id": "8740626d",
   "metadata": {},
   "source": [
    "14. Check if a tuple is empty."
   ]
  },
  {
   "cell_type": "code",
   "execution_count": 7,
   "id": "e5c5796c",
   "metadata": {},
   "outputs": [
    {
     "name": "stdout",
     "output_type": "stream",
     "text": [
      "The tuple is not empty\n"
     ]
    }
   ],
   "source": [
    "# Define an example empty tuple\n",
    "empty_tuple = ()\n",
    "\n",
    "# Check if the tuple is empty\n",
    "if not empty_tuple:\n",
    "    print(\"The tuple is empty\")\n",
    "else:\n",
    "    print(\"The tuple is not empty\")\n"
   ]
  },
  {
   "cell_type": "markdown",
   "id": "543cb3c0",
   "metadata": {},
   "source": [
    "15. Create a nested tuple."
   ]
  },
  {
   "cell_type": "code",
   "execution_count": 8,
   "id": "50007a8d",
   "metadata": {},
   "outputs": [
    {
     "name": "stdout",
     "output_type": "stream",
     "text": [
      "(1, 2)\n",
      "(3, 4)\n",
      "(5, 6)\n"
     ]
    }
   ],
   "source": [
    "# Creating a nested tuple\n",
    "nested_tuple = ((1, 2), (3, 4), (5, 6))\n",
    "\n",
    "# Accessing elements in the nested tuple\n",
    "print(nested_tuple[0])  # Access the first inner tuple\n",
    "print(nested_tuple[1])  # Access the second inner tuple\n",
    "print(nested_tuple[2])  # Access the third inner tuple\n"
   ]
  },
  {
   "cell_type": "markdown",
   "id": "adb9e484",
   "metadata": {},
   "source": [
    "16. Access the first element of a nested tuple."
   ]
  },
  {
   "cell_type": "code",
   "execution_count": 9,
   "id": "75e685ba",
   "metadata": {},
   "outputs": [
    {
     "name": "stdout",
     "output_type": "stream",
     "text": [
      "1\n"
     ]
    }
   ],
   "source": [
    "# Creating a nested tuple\n",
    "nested_tuple = ((1, 2), (3, 4), (5, 6))\n",
    "\n",
    "# Accessing the first element of the first inner tuple\n",
    "first_element = nested_tuple[0][0]\n",
    "\n",
    "# Print the first element\n",
    "print(first_element)\n"
   ]
  },
  {
   "cell_type": "markdown",
   "id": "b4c9066e",
   "metadata": {},
   "source": [
    "17. Create a tuple with a single element.\n"
   ]
  },
  {
   "cell_type": "code",
   "execution_count": 10,
   "id": "58b868e0",
   "metadata": {},
   "outputs": [
    {
     "name": "stdout",
     "output_type": "stream",
     "text": [
      "(42,)\n"
     ]
    }
   ],
   "source": [
    "# Creating a tuple with a single element\n",
    "single_element_tuple = (42,)\n",
    "\n",
    "# Print the single-element tuple\n",
    "print(single_element_tuple)\n"
   ]
  },
  {
   "cell_type": "markdown",
   "id": "31b9e20d",
   "metadata": {},
   "source": [
    "18. Compare two tuples.\n"
   ]
  },
  {
   "cell_type": "code",
   "execution_count": 11,
   "id": "0f5f3868",
   "metadata": {},
   "outputs": [
    {
     "name": "stdout",
     "output_type": "stream",
     "text": [
      "Tuples are not equal\n"
     ]
    }
   ],
   "source": [
    "# Define two example tuples\n",
    "tuple1 = (1, 2, 3)\n",
    "tuple2 = (1, 2, 4)\n",
    "\n",
    "# Compare the two tuples for equality\n",
    "if tuple1 == tuple2:\n",
    "    print(\"Tuples are equal\")\n",
    "else:\n",
    "    print(\"Tuples are not equal\")\n"
   ]
  },
  {
   "cell_type": "markdown",
   "id": "817ac33b",
   "metadata": {},
   "source": [
    "19. Delete a tuple"
   ]
  },
  {
   "cell_type": "code",
   "execution_count": 13,
   "id": "454f3002",
   "metadata": {},
   "outputs": [
    {
     "ename": "NameError",
     "evalue": "name 'my_tuple' is not defined",
     "output_type": "error",
     "traceback": [
      "\u001b[1;31m---------------------------------------------------------------------------\u001b[0m",
      "\u001b[1;31mNameError\u001b[0m                                 Traceback (most recent call last)",
      "Cell \u001b[1;32mIn[13], line 10\u001b[0m\n\u001b[0;32m      5\u001b[0m \u001b[38;5;28;01mdel\u001b[39;00m my_tuple\n\u001b[0;32m      7\u001b[0m \u001b[38;5;66;03m# Trying to access the tuple after deletion will raise an error\u001b[39;00m\n\u001b[0;32m      8\u001b[0m \u001b[38;5;66;03m# Uncommenting the following line will result in a NameError\u001b[39;00m\n\u001b[0;32m      9\u001b[0m \u001b[38;5;66;03m# print(my_tuple)\u001b[39;00m\n\u001b[1;32m---> 10\u001b[0m \u001b[38;5;28mprint\u001b[39m(my_tuple)\n",
      "\u001b[1;31mNameError\u001b[0m: name 'my_tuple' is not defined"
     ]
    }
   ],
   "source": [
    "# Create a tuple\n",
    "my_tuple = (1, 2, 3, 4, 5)\n",
    "\n",
    "# Delete the tuple\n",
    "del my_tuple\n",
    "\n",
    "# Trying to access the tuple after deletion will raise an error\n",
    "# Uncommenting the following line will result in a NameError\n",
    "# print(my_tuple)\n",
    "print(my_tuple)"
   ]
  },
  {
   "cell_type": "markdown",
   "id": "19861fdc",
   "metadata": {},
   "source": [
    "20. Slice a tuple"
   ]
  },
  {
   "cell_type": "code",
   "execution_count": 14,
   "id": "fb3ba8be",
   "metadata": {},
   "outputs": [
    {
     "name": "stdout",
     "output_type": "stream",
     "text": [
      "(2, 3)\n"
     ]
    }
   ],
   "source": [
    "# Create a tuple\n",
    "my_tuple = (1, 2, 3, 4, 5)\n",
    "\n",
    "# Slice the tuple to get elements from index 1 to 3 (exclusive)\n",
    "result_tuple = my_tuple[1:3]\n",
    "\n",
    "# Print the result\n",
    "print(result_tuple)\n"
   ]
  },
  {
   "cell_type": "markdown",
   "id": "3b798573",
   "metadata": {},
   "source": [
    "21. Find the maximum value in a tuple."
   ]
  },
  {
   "cell_type": "code",
   "execution_count": 15,
   "id": "aefc7b1c",
   "metadata": {},
   "outputs": [
    {
     "name": "stdout",
     "output_type": "stream",
     "text": [
      "Maximum value: 40\n"
     ]
    }
   ],
   "source": [
    "# Create a tuple\n",
    "my_tuple = (10, 25, 5, 40, 30)\n",
    "\n",
    "# Find the maximum value in the tuple\n",
    "max_value = max(my_tuple)\n",
    "\n",
    "# Print the maximum value\n",
    "print(\"Maximum value:\", max_value)\n"
   ]
  },
  {
   "cell_type": "markdown",
   "id": "5e3e7493",
   "metadata": {},
   "source": [
    "22. Find the minimum value in a tupl"
   ]
  },
  {
   "cell_type": "code",
   "execution_count": 16,
   "id": "7fa03d2e",
   "metadata": {},
   "outputs": [
    {
     "name": "stdout",
     "output_type": "stream",
     "text": [
      "Minimum value: 5\n"
     ]
    }
   ],
   "source": [
    "# Create a tuple\n",
    "my_tuple = (10, 25, 5, 40, 30)\n",
    "\n",
    "# Find the minimum value in the tuple\n",
    "min_value = min(my_tuple)\n",
    "\n",
    "# Print the minimum value\n",
    "print(\"Minimum value:\", min_value)\n"
   ]
  },
  {
   "cell_type": "markdown",
   "id": "2d3969c9",
   "metadata": {},
   "source": [
    "23. Convert a string to a tuple of characters."
   ]
  },
  {
   "cell_type": "code",
   "execution_count": 17,
   "id": "57db5b7a",
   "metadata": {},
   "outputs": [
    {
     "name": "stdout",
     "output_type": "stream",
     "text": [
      "('H', 'e', 'l', 'l', 'o', ',', ' ', 'W', 'o', 'r', 'l', 'd', '!')\n"
     ]
    }
   ],
   "source": [
    "# Create a string\n",
    "my_string = \"Hello, World!\"\n",
    "\n",
    "# Convert the string to a tuple of characters\n",
    "char_tuple = tuple(my_string)\n",
    "\n",
    "# Print the tuple\n",
    "print(char_tuple)\n"
   ]
  },
  {
   "cell_type": "markdown",
   "id": "dee84b25",
   "metadata": {},
   "source": [
    "24. Convert a tuple of characters to a string."
   ]
  },
  {
   "cell_type": "code",
   "execution_count": 18,
   "id": "16dd6b5f",
   "metadata": {},
   "outputs": [
    {
     "name": "stdout",
     "output_type": "stream",
     "text": [
      "Hello, World!\n"
     ]
    }
   ],
   "source": [
    "# Create a tuple of characters\n",
    "char_tuple = ('H', 'e', 'l', 'l', 'o', ',', ' ', 'W', 'o', 'r', 'l', 'd', '!')\n",
    "\n",
    "# Convert the tuple to a string\n",
    "result_string = ''.join(char_tuple)\n",
    "\n",
    "# Print the resulting string\n",
    "print(result_string)\n"
   ]
  },
  {
   "cell_type": "markdown",
   "id": "5d76233d",
   "metadata": {},
   "source": [
    "25. Create a tuple from multiple data types.\n"
   ]
  },
  {
   "cell_type": "code",
   "execution_count": 20,
   "id": "24018d3c",
   "metadata": {},
   "outputs": [
    {
     "name": "stdout",
     "output_type": "stream",
     "text": [
      "(1, 'Hello', 3.14, True)\n"
     ]
    }
   ],
   "source": [
    "# Create a tuple with multiple data types\n",
    "mixed_tuple = (1, \"Hello\", 3.14, True)\n",
    "\n",
    "# Print the mixed tuple\n",
    "print(mixed_tuple)\n"
   ]
  },
  {
   "cell_type": "markdown",
   "id": "5e87a4e0",
   "metadata": {},
   "source": [
    "26. Check if two tuples are identical."
   ]
  },
  {
   "cell_type": "code",
   "execution_count": 21,
   "id": "c022c963",
   "metadata": {},
   "outputs": [
    {
     "name": "stdout",
     "output_type": "stream",
     "text": [
      "The two tuples are identical\n"
     ]
    }
   ],
   "source": [
    "# Define two example tuples\n",
    "tuple1 = (1, 2, 3)\n",
    "tuple2 = (1, 2, 3)\n",
    "\n",
    "# Check if the two tuples are identical\n",
    "if tuple1 == tuple2:\n",
    "    print(\"The two tuples are identical\")\n",
    "else:\n",
    "    print(\"The two tuples are not identical\")\n"
   ]
  },
  {
   "cell_type": "markdown",
   "id": "49e286a4",
   "metadata": {},
   "source": [
    "27. Sort the elements of a tuple."
   ]
  },
  {
   "cell_type": "code",
   "execution_count": 22,
   "id": "996580c8",
   "metadata": {},
   "outputs": [
    {
     "name": "stdout",
     "output_type": "stream",
     "text": [
      "(1, 2, 3, 4, 5)\n"
     ]
    }
   ],
   "source": [
    "# Create a tuple\n",
    "my_tuple = (5, 1, 3, 2, 4)\n",
    "\n",
    "# Convert the tuple to a list\n",
    "my_list = list(my_tuple)\n",
    "\n",
    "# Sort the list\n",
    "my_list.sort()\n",
    "\n",
    "# Convert the sorted list back to a tuple\n",
    "sorted_tuple = tuple(my_list)\n",
    "\n",
    "# Print the sorted tuple\n",
    "print(sorted_tuple)\n"
   ]
  },
  {
   "cell_type": "markdown",
   "id": "758f6372",
   "metadata": {},
   "source": [
    "28. Convert a tuple of integers to a tuple of strings."
   ]
  },
  {
   "cell_type": "code",
   "execution_count": 23,
   "id": "b35c6aa6",
   "metadata": {},
   "outputs": [
    {
     "name": "stdout",
     "output_type": "stream",
     "text": [
      "('1', '2', '3', '4', '5')\n"
     ]
    }
   ],
   "source": [
    "# Create a tuple of integers\n",
    "tuple_of_integers = (1, 2, 3, 4, 5)\n",
    "\n",
    "# Convert the tuple of integers to a tuple of strings\n",
    "tuple_of_strings = tuple(str(i) for i in tuple_of_integers)\n",
    "\n",
    "# Print the tuple of strings\n",
    "print(tuple_of_strings)\n"
   ]
  },
  {
   "cell_type": "markdown",
   "id": "46d43783",
   "metadata": {},
   "source": [
    "29. Convert a tuple of strings to a tuple of integers"
   ]
  },
  {
   "cell_type": "code",
   "execution_count": 24,
   "id": "80761833",
   "metadata": {},
   "outputs": [
    {
     "name": "stdout",
     "output_type": "stream",
     "text": [
      "(1, 2, 3, 4, 5)\n"
     ]
    }
   ],
   "source": [
    "# Create a tuple of strings\n",
    "tuple_of_strings = (\"1\", \"2\", \"3\", \"4\", \"5\")\n",
    "\n",
    "# Convert the tuple of strings to a tuple of integers\n",
    "tuple_of_integers = tuple(int(s) for s in tuple_of_strings)\n",
    "\n",
    "# Print the tuple of integers\n",
    "print(tuple_of_integers)\n"
   ]
  },
  {
   "cell_type": "markdown",
   "id": "aa3ffc33",
   "metadata": {},
   "source": [
    "30. Merge two tuples."
   ]
  },
  {
   "cell_type": "code",
   "execution_count": 25,
   "id": "01f6045e",
   "metadata": {},
   "outputs": [
    {
     "name": "stdout",
     "output_type": "stream",
     "text": [
      "(1, 2, 3, 4, 5, 6)\n"
     ]
    }
   ],
   "source": [
    "# Define two example tuples\n",
    "tuple1 = (1, 2, 3)\n",
    "tuple2 = (4, 5, 6)\n",
    "\n",
    "# Merge the two tuples\n",
    "merged_tuple = tuple1 + tuple2\n",
    "\n",
    "# Print the merged tuple\n",
    "print(merged_tuple)\n"
   ]
  },
  {
   "cell_type": "markdown",
   "id": "d565d782",
   "metadata": {},
   "source": [
    "31. Flatten a nested tuple."
   ]
  },
  {
   "cell_type": "code",
   "execution_count": 26,
   "id": "7a7cba45",
   "metadata": {},
   "outputs": [
    {
     "name": "stdout",
     "output_type": "stream",
     "text": [
      "(1, 2, 3, 4, 5, 6, 7, 8)\n"
     ]
    }
   ],
   "source": [
    "# Define a nested tuple\n",
    "nested_tuple = ((1, 2), (3, (4, 5)), 6, (7, 8))\n",
    "\n",
    "# Function to flatten a nested tuple\n",
    "def flatten_tuple(nested):\n",
    "    flat_list = []\n",
    "    for item in nested:\n",
    "        if isinstance(item, tuple):\n",
    "            flat_list.extend(flatten_tuple(item))\n",
    "        else:\n",
    "            flat_list.append(item)\n",
    "    return flat_list\n",
    "\n",
    "# Flatten the nested tuple\n",
    "flat_tuple = tuple(flatten_tuple(nested_tuple))\n",
    "\n",
    "# Print the flattened tuple\n",
    "print(flat_tuple)\n"
   ]
  },
  {
   "cell_type": "markdown",
   "id": "28fa0ee1",
   "metadata": {},
   "source": [
    "32. Create a tuple of the first 5 prime numbers.\n"
   ]
  },
  {
   "cell_type": "code",
   "execution_count": 27,
   "id": "13240849",
   "metadata": {},
   "outputs": [
    {
     "name": "stdout",
     "output_type": "stream",
     "text": [
      "(2, 3, 5, 7, 11)\n"
     ]
    }
   ],
   "source": [
    "prime_numbers = (2, 3, 5, 7, 11)\n",
    "print(prime_numbers)"
   ]
  },
  {
   "cell_type": "markdown",
   "id": "09faa5bd",
   "metadata": {},
   "source": [
    "33. Check if a tuple is a palindrome"
   ]
  },
  {
   "cell_type": "code",
   "execution_count": 28,
   "id": "2b758374",
   "metadata": {},
   "outputs": [
    {
     "name": "stdout",
     "output_type": "stream",
     "text": [
      "The tuple is a palindrome.\n"
     ]
    }
   ],
   "source": [
    "# Define a tuple\n",
    "my_tuple = (1, 2, 3, 2, 1)\n",
    "\n",
    "# Check if the tuple is a palindrome\n",
    "is_palindrome = my_tuple == my_tuple[::-1]\n",
    "\n",
    "# Print the result\n",
    "if is_palindrome:\n",
    "    print(\"The tuple is a palindrome.\")\n",
    "else:\n",
    "    print(\"The tuple is not a palindrome.\")\n"
   ]
  },
  {
   "cell_type": "markdown",
   "id": "c2a9829e",
   "metadata": {},
   "source": [
    "34. Create a tuple of squares of numbers from 1 to 5."
   ]
  },
  {
   "cell_type": "code",
   "execution_count": 29,
   "id": "88377883",
   "metadata": {},
   "outputs": [
    {
     "name": "stdout",
     "output_type": "stream",
     "text": [
      "(1, 4, 9, 16, 25)\n"
     ]
    }
   ],
   "source": [
    "squares_tuple = (1**2, 2**2, 3**2, 4**2, 5**2)\n",
    "print(squares_tuple)"
   ]
  },
  {
   "cell_type": "markdown",
   "id": "a6dd1725",
   "metadata": {},
   "source": [
    "35. Filter out all even numbers from a tuple."
   ]
  },
  {
   "cell_type": "code",
   "execution_count": 30,
   "id": "0f174f0b",
   "metadata": {},
   "outputs": [
    {
     "name": "stdout",
     "output_type": "stream",
     "text": [
      "(1, 3, 5, 7, 9)\n"
     ]
    }
   ],
   "source": [
    "# Define a tuple with both even and odd numbers\n",
    "original_tuple = (1, 2, 3, 4, 5, 6, 7, 8, 9, 10)\n",
    "\n",
    "# Use a list comprehension to filter out even numbers\n",
    "filtered_tuple = tuple(x for x in original_tuple if x % 2 != 0)\n",
    "\n",
    "# Print the filtered tuple\n",
    "print(filtered_tuple)\n"
   ]
  },
  {
   "cell_type": "markdown",
   "id": "e27da406",
   "metadata": {},
   "source": [
    "36. Multiply all elements in a tuple by 2"
   ]
  },
  {
   "cell_type": "code",
   "execution_count": 31,
   "id": "cfd3dfb5",
   "metadata": {},
   "outputs": [
    {
     "name": "stdout",
     "output_type": "stream",
     "text": [
      "(2, 4, 6, 8, 10)\n"
     ]
    }
   ],
   "source": [
    "# Define a tuple\n",
    "original_tuple = (1, 2, 3, 4, 5)\n",
    "\n",
    "# Multiply all elements by 2 using a list comprehension\n",
    "doubled_tuple = tuple(x * 2 for x in original_tuple)\n",
    "\n",
    "# Print the doubled tuple\n",
    "print(doubled_tuple)\n"
   ]
  },
  {
   "cell_type": "markdown",
   "id": "35a71ee4",
   "metadata": {},
   "source": [
    "37. Create a tuple of random numbers."
   ]
  },
  {
   "cell_type": "code",
   "execution_count": 32,
   "id": "31ef5ded",
   "metadata": {},
   "outputs": [
    {
     "name": "stdout",
     "output_type": "stream",
     "text": [
      "(52, 13, 84, 48, 36)\n"
     ]
    }
   ],
   "source": [
    "import random\n",
    "\n",
    "# Create a tuple of 5 random integers between 1 and 100\n",
    "random_tuple = tuple(random.randint(1, 100) for _ in range(5))\n",
    "\n",
    "# Print the random tuple\n",
    "print(random_tuple)\n"
   ]
  },
  {
   "cell_type": "markdown",
   "id": "15dbe1d2",
   "metadata": {},
   "source": [
    "38. Check if a tuple is sorted."
   ]
  },
  {
   "cell_type": "code",
   "execution_count": 33,
   "id": "3f4bfa27",
   "metadata": {},
   "outputs": [
    {
     "name": "stdout",
     "output_type": "stream",
     "text": [
      "The tuple is sorted.\n"
     ]
    }
   ],
   "source": [
    "# Define an example tuple\n",
    "my_tuple = (1, 2, 3, 4, 5)\n",
    "\n",
    "# Check if the tuple is sorted\n",
    "is_sorted = my_tuple == tuple(sorted(my_tuple))\n",
    "\n",
    "# Print the result\n",
    "if is_sorted:\n",
    "    print(\"The tuple is sorted.\")\n",
    "else:\n",
    "    print(\"The tuple is not sorted.\")\n"
   ]
  },
  {
   "cell_type": "markdown",
   "id": "6192c5e5",
   "metadata": {},
   "source": [
    "39. Rotate a tuple to the left by `n` positions."
   ]
  },
  {
   "cell_type": "code",
   "execution_count": 1,
   "id": "364f8f4e",
   "metadata": {},
   "outputs": [
    {
     "name": "stdout",
     "output_type": "stream",
     "text": [
      "(3, 4, 5, 1, 2)\n"
     ]
    }
   ],
   "source": [
    "def rotate_tuple_left(tup, n):\n",
    "    if n < 0 or n >= len(tup):\n",
    "        return tup  # No change needed for invalid values of n\n",
    "\n",
    "    # Split the tuple into two parts: elements to be rotated and the rest\n",
    "    left_part = tup[n:]\n",
    "    right_part = tup[:n]\n",
    "\n",
    "    # Concatenate the two parts to get the rotated tuple\n",
    "    rotated_tuple = left_part + right_part\n",
    "\n",
    "    return rotated_tuple\n",
    "original_tuple = (1, 2, 3, 4, 5)\n",
    "n = 2  # Rotate left by 2 positions\n",
    "\n",
    "rotated_tuple = rotate_tuple_left(original_tuple, n)\n",
    "print(rotated_tuple)  # Output: (3, 4, 5, 1, 2)\n"
   ]
  },
  {
   "cell_type": "markdown",
   "id": "123bbce6",
   "metadata": {},
   "source": [
    "40. Rotate a tuple to the right by `n` positions.\n"
   ]
  },
  {
   "cell_type": "code",
   "execution_count": 2,
   "id": "9e606c43",
   "metadata": {},
   "outputs": [
    {
     "name": "stdout",
     "output_type": "stream",
     "text": [
      "(4, 5, 1, 2, 3)\n"
     ]
    }
   ],
   "source": [
    "def rotate_tuple_right(tup, n):\n",
    "    if n < 0 or n >= len(tup):\n",
    "        return tup  # No change needed for invalid values of n\n",
    "\n",
    "    # Split the tuple into two parts: elements to be rotated and the rest\n",
    "    left_part = tup[-n:]\n",
    "    right_part = tup[:-n]\n",
    "\n",
    "    # Concatenate the two parts to get the rotated tuple\n",
    "    rotated_tuple = left_part + right_part\n",
    "\n",
    "    return rotated_tuple\n",
    "original_tuple = (1, 2, 3, 4, 5)\n",
    "n = 2  # Rotate right by 2 positions\n",
    "\n",
    "rotated_tuple = rotate_tuple_right(original_tuple, n)\n",
    "print(rotated_tuple)  # Output: (4, 5, 1, 2, 3)\n"
   ]
  },
  {
   "cell_type": "markdown",
   "id": "b776f746",
   "metadata": {},
   "source": [
    "41. Create a tuple of the first 5 Fibonacci numbers."
   ]
  },
  {
   "cell_type": "code",
   "execution_count": 3,
   "id": "fc59c402",
   "metadata": {},
   "outputs": [
    {
     "name": "stdout",
     "output_type": "stream",
     "text": [
      "(0, 1, 1, 2, 3)\n"
     ]
    }
   ],
   "source": [
    "def generate_fibonacci(n):\n",
    "    fibonacci_sequence = []\n",
    "    a, b = 0, 1\n",
    "    for _ in range(n):\n",
    "        fibonacci_sequence.append(a)\n",
    "        a, b = b, a + b\n",
    "    return tuple(fibonacci_sequence)\n",
    "\n",
    "# Generate a tuple of the first 5 Fibonacci numbers\n",
    "fibonacci_tuple = generate_fibonacci(5)\n",
    "print(fibonacci_tuple)\n"
   ]
  },
  {
   "cell_type": "markdown",
   "id": "d0446017",
   "metadata": {},
   "source": [
    "42. Create a tuple from user input."
   ]
  },
  {
   "cell_type": "code",
   "execution_count": 4,
   "id": "e82ce9a9",
   "metadata": {},
   "outputs": [
    {
     "name": "stdout",
     "output_type": "stream",
     "text": [
      "Enter elements separated by spaces: 5\n",
      "Tuple created from user input: ('5',)\n"
     ]
    }
   ],
   "source": [
    "# Taking user input as a list\n",
    "user_input_list = input(\"Enter elements separated by spaces: \").split()\n",
    "\n",
    "# Converting the list into a tuple\n",
    "user_input_tuple = tuple(user_input_list)\n",
    "\n",
    "# Display the resulting tuple\n",
    "print(\"Tuple created from user input:\", user_input_tuple)\n"
   ]
  },
  {
   "cell_type": "markdown",
   "id": "48401023",
   "metadata": {},
   "source": [
    "43. Swap two elements in a tuple"
   ]
  },
  {
   "cell_type": "code",
   "execution_count": 6,
   "id": "8fa7d91e",
   "metadata": {},
   "outputs": [
    {
     "name": "stdout",
     "output_type": "stream",
     "text": [
      "(1, 4, 3, 2, 5)\n"
     ]
    }
   ],
   "source": [
    "def swap_elements_in_tuple(tup, index1, index2):\n",
    "    # Convert the tuple to a list to make modifications\n",
    "    tup_list = list(tup)\n",
    "\n",
    "    # Check if the indices are valid\n",
    "    if 0 <= index1 < len(tup) and 0 <= index2 < len(tup):\n",
    "        # Swap the elements at index1 and index2\n",
    "        tup_list[index1], tup_list[index2] = tup_list[index2], tup_list[index1]\n",
    "\n",
    "        # Convert the list back to a tuple\n",
    "        swapped_tuple = tuple(tup_list)\n",
    "\n",
    "        return swapped_tuple\n",
    "    else:\n",
    "        # Invalid indices, return the original tuple\n",
    "        return tup\n",
    "\n",
    "# Example\n",
    "original_tuple = (1, 2, 3, 4, 5)\n",
    "index1 = 1\n",
    "index2 = 3\n",
    "\n",
    "swapped_tuple = swap_elements_in_tuple(original_tuple, index1, index2)\n",
    "print(swapped_tuple)\n"
   ]
  },
  {
   "cell_type": "markdown",
   "id": "08cafe6c",
   "metadata": {},
   "source": [
    "44. Reverse the elements of a tuple."
   ]
  },
  {
   "cell_type": "code",
   "execution_count": 7,
   "id": "18a7211a",
   "metadata": {},
   "outputs": [
    {
     "name": "stdout",
     "output_type": "stream",
     "text": [
      "(5, 4, 3, 2, 1)\n"
     ]
    }
   ],
   "source": [
    "def reverse_tuple(tup):\n",
    "    reversed_tuple = tup[::-1]\n",
    "    return reversed_tuple\n",
    "\n",
    "# Example\n",
    "original_tuple = (1, 2, 3, 4, 5)\n",
    "reversed_tuple = reverse_tuple(original_tuple)\n",
    "print(reversed_tuple)\n"
   ]
  },
  {
   "cell_type": "markdown",
   "id": "0047a1a7",
   "metadata": {},
   "source": [
    "45. Create a tuple of the first `n` powers of 2"
   ]
  },
  {
   "cell_type": "code",
   "execution_count": 8,
   "id": "f99cce6e",
   "metadata": {},
   "outputs": [
    {
     "name": "stdout",
     "output_type": "stream",
     "text": [
      "(1, 2, 4, 8, 16)\n"
     ]
    }
   ],
   "source": [
    "def powers_of_2(n):\n",
    "    if n <= 0:\n",
    "        return ()  # Return an empty tuple for n <= 0\n",
    "\n",
    "    power_of_2_tuple = tuple(2 ** i for i in range(n))\n",
    "    return power_of_2_tuple\n",
    "\n",
    "# Example: Create a tuple of the first 5 powers of 2\n",
    "n = 5\n",
    "power_of_2_tuple = powers_of_2(n)\n",
    "print(power_of_2_tuple)\n"
   ]
  },
  {
   "cell_type": "markdown",
   "id": "8a6ca49a",
   "metadata": {},
   "source": [
    "46. Find the longest string in a tuple of strings."
   ]
  },
  {
   "cell_type": "code",
   "execution_count": 9,
   "id": "45ecdca7",
   "metadata": {},
   "outputs": [
    {
     "name": "stdout",
     "output_type": "stream",
     "text": [
      "Longest string: elderberry\n"
     ]
    }
   ],
   "source": [
    "def find_longest_string_in_tuple(string_tuple):\n",
    "    if not string_tuple:\n",
    "        return None  # Return None for an empty tuple\n",
    "\n",
    "    longest_string = string_tuple[0]  # Initialize with the first string\n",
    "\n",
    "    for string in string_tuple:\n",
    "        if len(string) > len(longest_string):\n",
    "            longest_string = string\n",
    "\n",
    "    return longest_string\n",
    "\n",
    "# Example\n",
    "string_tuple = (\"apple\", \"banana\", \"cherry\", \"date\", \"elderberry\")\n",
    "longest = find_longest_string_in_tuple(string_tuple)\n",
    "print(\"Longest string:\", longest)\n"
   ]
  },
  {
   "cell_type": "markdown",
   "id": "a5698a38",
   "metadata": {},
   "source": [
    "47. Find the shortest string in a tuple of strings."
   ]
  },
  {
   "cell_type": "code",
   "execution_count": 10,
   "id": "4d7ca2ad",
   "metadata": {},
   "outputs": [
    {
     "name": "stdout",
     "output_type": "stream",
     "text": [
      "Shortest string: date\n"
     ]
    }
   ],
   "source": [
    "def find_shortest_string_in_tuple(string_tuple):\n",
    "    if not string_tuple:\n",
    "        return None  # Return None for an empty tuple\n",
    "\n",
    "    shortest_string = string_tuple[0]  # Initialize with the first string\n",
    "\n",
    "    for string in string_tuple:\n",
    "        if len(string) < len(shortest_string):\n",
    "            shortest_string = string\n",
    "\n",
    "    return shortest_string\n",
    "\n",
    "# Example\n",
    "string_tuple = (\"apple\", \"banana\", \"cherry\", \"date\", \"elderberry\")\n",
    "shortest = find_shortest_string_in_tuple(string_tuple)\n",
    "print(\"Shortest string:\", shortest)\n"
   ]
  },
  {
   "cell_type": "markdown",
   "id": "68915216",
   "metadata": {},
   "source": [
    "48. Create a tuple of the first `n` triangular numbers."
   ]
  },
  {
   "cell_type": "code",
   "execution_count": 11,
   "id": "6a22bb0a",
   "metadata": {},
   "outputs": [
    {
     "name": "stdout",
     "output_type": "stream",
     "text": [
      "(1, 3, 6, 10, 15)\n"
     ]
    }
   ],
   "source": [
    "def generate_triangular_numbers(n):\n",
    "    if n <= 0:\n",
    "        return ()  # Return an empty tuple for n <= 0\n",
    "\n",
    "    triangular_numbers = []\n",
    "    for i in range(1, n + 1):\n",
    "        triangular_numbers.append(i * (i + 1) // 2)\n",
    "\n",
    "    return tuple(triangular_numbers)\n",
    "\n",
    "# Example: Create a tuple of the first 5 triangular numbers\n",
    "n = 5\n",
    "triangular_tuple = generate_triangular_numbers(n)\n",
    "print(triangular_tuple)\n"
   ]
  },
  {
   "cell_type": "markdown",
   "id": "1d6fa2c8",
   "metadata": {},
   "source": [
    "49. Check if a tuple contains another tuple as a subsequence."
   ]
  },
  {
   "cell_type": "code",
   "execution_count": 12,
   "id": "01cebee9",
   "metadata": {},
   "outputs": [
    {
     "name": "stdout",
     "output_type": "stream",
     "text": [
      "The sub-tuple is a subsequence of the main tuple.\n"
     ]
    }
   ],
   "source": [
    "def contains_subtuple(main_tuple, sub_tuple):\n",
    "    if not sub_tuple:\n",
    "        return True  # An empty sub-tuple is always considered a subsequence\n",
    "\n",
    "    # Initialize indices for both tuples\n",
    "    main_index = 0\n",
    "    sub_index = 0\n",
    "\n",
    "    # Iterate through the main tuple\n",
    "    while main_index < len(main_tuple):\n",
    "        if main_tuple[main_index] == sub_tuple[sub_index]:\n",
    "            sub_index += 1  # Move to the next element in the sub-tuple\n",
    "\n",
    "            # If we have matched all elements in the sub-tuple, it's a subsequence\n",
    "            if sub_index == len(sub_tuple):\n",
    "                return True\n",
    "\n",
    "        main_index += 1\n",
    "\n",
    "    # If we reach here, the sub-tuple was not found as a subsequence\n",
    "    return False\n",
    "\n",
    "# Example\n",
    "main_tuple = (1, 2, 3, 4, 5, 6)\n",
    "sub_tuple = (2, 4, 6)\n",
    "\n",
    "if contains_subtuple(main_tuple, sub_tuple):\n",
    "    print(\"The sub-tuple is a subsequence of the main tuple.\")\n",
    "else:\n",
    "    print(\"The sub-tuple is not a subsequence of the main tuple.\")\n"
   ]
  },
  {
   "cell_type": "markdown",
   "id": "2b322f90",
   "metadata": {},
   "source": [
    "50. Create a tuple of alternating 1s and 0s of length `n`"
   ]
  },
  {
   "cell_type": "code",
   "execution_count": 13,
   "id": "49e26e35",
   "metadata": {},
   "outputs": [
    {
     "name": "stdout",
     "output_type": "stream",
     "text": [
      "(1, 0, 1, 0, 1, 0)\n"
     ]
    }
   ],
   "source": [
    "def alternating_ones_and_zeros(n):\n",
    "    if n <= 0:\n",
    "        return ()  # Return an empty tuple for n <= 0\n",
    "\n",
    "    alternating_tuple = tuple([1 if i % 2 == 0 else 0 for i in range(n)])\n",
    "    return alternating_tuple\n",
    "\n",
    "# Example: Create a tuple of alternating 1s and 0s of length 6\n",
    "n = 6\n",
    "alternating_tuple = alternating_ones_and_zeros(n)\n",
    "print(alternating_tuple)\n"
   ]
  },
  {
   "cell_type": "markdown",
   "id": "a56c9e62",
   "metadata": {},
   "source": [
    "# Set Based Practice Problem "
   ]
  },
  {
   "cell_type": "markdown",
   "id": "8c30b23a",
   "metadata": {},
   "source": [
    "1. Create a set with integers from 1 to 5."
   ]
  },
  {
   "cell_type": "code",
   "execution_count": 14,
   "id": "8dac3207",
   "metadata": {},
   "outputs": [
    {
     "name": "stdout",
     "output_type": "stream",
     "text": [
      "{1, 2, 3, 4, 5}\n"
     ]
    }
   ],
   "source": [
    "my_set = set([1, 2, 3, 4, 5])\n",
    "print(my_set)"
   ]
  },
  {
   "cell_type": "markdown",
   "id": "6e216e27",
   "metadata": {},
   "source": [
    "2. Add an element to a set."
   ]
  },
  {
   "cell_type": "code",
   "execution_count": 15,
   "id": "cc9193ff",
   "metadata": {},
   "outputs": [
    {
     "name": "stdout",
     "output_type": "stream",
     "text": [
      "{1, 2, 3, 4, 5, 6}\n"
     ]
    }
   ],
   "source": [
    "my_set = {1, 2, 3, 4, 5}\n",
    "my_set.add(6)\n",
    "print(my_set)"
   ]
  },
  {
   "cell_type": "markdown",
   "id": "05f53e30",
   "metadata": {},
   "source": [
    "3. Remove an element from a set."
   ]
  },
  {
   "cell_type": "code",
   "execution_count": 17,
   "id": "6b5fc0b9",
   "metadata": {},
   "outputs": [
    {
     "name": "stdout",
     "output_type": "stream",
     "text": [
      "{1, 2, 4, 5}\n"
     ]
    }
   ],
   "source": [
    "my_set = {1, 2, 3, 4, 5}\n",
    "element_to_remove = 3\n",
    "\n",
    "my_set.discard(element_to_remove)\n",
    "\n",
    "# The set after removal will be {1, 2, 4, 5}\n",
    "print(my_set)"
   ]
  },
  {
   "cell_type": "markdown",
   "id": "3a5a92ed",
   "metadata": {},
   "source": [
    "4. Check if an element exists in a set.4. Check if an element exists in a set."
   ]
  },
  {
   "cell_type": "code",
   "execution_count": 18,
   "id": "88e6e427",
   "metadata": {},
   "outputs": [
    {
     "name": "stdout",
     "output_type": "stream",
     "text": [
      "3 exists in the set\n"
     ]
    }
   ],
   "source": [
    "my_set = {1, 2, 3, 4, 5}\n",
    "element_to_check = 3\n",
    "\n",
    "if my_set.intersection([element_to_check]):\n",
    "    print(f\"{element_to_check} exists in the set\")\n",
    "else:\n",
    "    print(f\"{element_to_check} does not exist in the set\")\n"
   ]
  },
  {
   "cell_type": "markdown",
   "id": "626ac438",
   "metadata": {},
   "source": [
    "5. Find the length of a set without using the `len()` function."
   ]
  },
  {
   "cell_type": "code",
   "execution_count": 19,
   "id": "33d981dc",
   "metadata": {},
   "outputs": [
    {
     "name": "stdout",
     "output_type": "stream",
     "text": [
      "Length of the set: 5\n"
     ]
    }
   ],
   "source": [
    "def find_set_length(my_set):\n",
    "    count = 0\n",
    "    for _ in my_set:\n",
    "        count += 1\n",
    "    return count\n",
    "\n",
    "# Example\n",
    "my_set = {1, 2, 3, 4, 5}\n",
    "length = find_set_length(my_set)\n",
    "print(\"Length of the set:\", length)\n"
   ]
  },
  {
   "cell_type": "markdown",
   "id": "2ca74cb8",
   "metadata": {},
   "source": [
    "6. Clear all elements from a set.\n"
   ]
  },
  {
   "cell_type": "code",
   "execution_count": 20,
   "id": "16f33e4e",
   "metadata": {},
   "outputs": [
    {
     "name": "stdout",
     "output_type": "stream",
     "text": [
      "set()\n"
     ]
    }
   ],
   "source": [
    "my_set = {1, 2, 3, 4, 5}\n",
    "my_set.clear()\n",
    "print(my_set)"
   ]
  },
  {
   "cell_type": "markdown",
   "id": "8bc86cbb",
   "metadata": {},
   "source": [
    "7. Create a set of even numbers from 1 to 10"
   ]
  },
  {
   "cell_type": "code",
   "execution_count": 21,
   "id": "5f61ac84",
   "metadata": {},
   "outputs": [
    {
     "name": "stdout",
     "output_type": "stream",
     "text": [
      "{2, 4, 6, 8, 10}\n"
     ]
    }
   ],
   "source": [
    "even_numbers = {x for x in range(1, 11) if x % 2 == 0}\n",
    "even_numbers = set()\n",
    "for x in range(1, 11):\n",
    "    if x % 2 == 0:\n",
    "        even_numbers.add(x)\n",
    "print(even_numbers)"
   ]
  },
  {
   "cell_type": "markdown",
   "id": "9f4bb6b9",
   "metadata": {},
   "source": [
    "8. Create a set of odd numbers from 1 to 10.\n"
   ]
  },
  {
   "cell_type": "code",
   "execution_count": 22,
   "id": "71e4a818",
   "metadata": {},
   "outputs": [
    {
     "name": "stdout",
     "output_type": "stream",
     "text": [
      "{1, 3, 5, 7, 9}\n"
     ]
    }
   ],
   "source": [
    "odd_numbers = {x for x in range(1, 11) if x % 2 != 0}\n",
    "odd_numbers = set()\n",
    "for x in range(1, 11):\n",
    "    if x % 2 != 0:\n",
    "        odd_numbers.add(x)\n",
    "print(odd_numbers)"
   ]
  },
  {
   "cell_type": "markdown",
   "id": "cb6a9084",
   "metadata": {},
   "source": [
    "9. Find the union of two sets."
   ]
  },
  {
   "cell_type": "code",
   "execution_count": 23,
   "id": "31e24202",
   "metadata": {},
   "outputs": [
    {
     "name": "stdout",
     "output_type": "stream",
     "text": [
      "{1, 2, 3, 4, 5, 6, 7, 8}\n"
     ]
    }
   ],
   "source": [
    "set1 = {1, 2, 3, 4, 5}\n",
    "set2 = {4, 5, 6, 7, 8}\n",
    "\n",
    "union_set = set1.union(set2)\n",
    "print(union_set)"
   ]
  },
  {
   "cell_type": "markdown",
   "id": "217d7da8",
   "metadata": {},
   "source": [
    "10. Find the intersection of two sets.\n"
   ]
  },
  {
   "cell_type": "code",
   "execution_count": 25,
   "id": "5b45aa52",
   "metadata": {},
   "outputs": [
    {
     "name": "stdout",
     "output_type": "stream",
     "text": [
      "{4, 5}\n"
     ]
    }
   ],
   "source": [
    "set1 = {1, 2, 3, 4, 5}\n",
    "set2 = {4, 5, 6, 7, 8}\n",
    "\n",
    "intersection_set = set1.intersection(set2)\n",
    "print(intersection_set)"
   ]
  },
  {
   "cell_type": "markdown",
   "id": "6e423378",
   "metadata": {},
   "source": [
    "11. Find the difference between two sets."
   ]
  },
  {
   "cell_type": "code",
   "execution_count": 1,
   "id": "4ae83c5d",
   "metadata": {},
   "outputs": [
    {
     "name": "stdout",
     "output_type": "stream",
     "text": [
      "{1, 2, 3}\n"
     ]
    }
   ],
   "source": [
    "set1 = {1, 2, 3, 4, 5}\n",
    "set2 = {4, 5, 6, 7, 8}\n",
    "\n",
    "difference_set = set1 - set2\n",
    "print(difference_set)"
   ]
  },
  {
   "cell_type": "markdown",
   "id": "52af94fb",
   "metadata": {},
   "source": [
    "12. Check if a set is a subset of another set.\n"
   ]
  },
  {
   "cell_type": "code",
   "execution_count": 2,
   "id": "8073a7dc",
   "metadata": {},
   "outputs": [
    {
     "name": "stdout",
     "output_type": "stream",
     "text": [
      "set1 is a subset of set2\n"
     ]
    }
   ],
   "source": [
    "set1 = {1, 2, 3}\n",
    "set2 = {1, 2, 3, 4, 5}\n",
    "\n",
    "is_subset = set1.issubset(set2)\n",
    "\n",
    "if is_subset:\n",
    "    print(\"set1 is a subset of set2\")\n",
    "else:\n",
    "    print(\"set1 is not a subset of set2\")\n"
   ]
  },
  {
   "cell_type": "markdown",
   "id": "e3345711",
   "metadata": {},
   "source": [
    "13. Check if a set is a superset of another set."
   ]
  },
  {
   "cell_type": "code",
   "execution_count": 3,
   "id": "43d4d48b",
   "metadata": {},
   "outputs": [
    {
     "name": "stdout",
     "output_type": "stream",
     "text": [
      "set1 is a superset of set2\n"
     ]
    }
   ],
   "source": [
    "set1 = {1, 2, 3, 4, 5}\n",
    "set2 = {1, 2, 3}\n",
    "\n",
    "is_superset = set1 >= set2\n",
    "\n",
    "if is_superset:\n",
    "    print(\"set1 is a superset of set2\")\n",
    "else:\n",
    "    print(\"set1 is not a superset of set2\")\n"
   ]
  },
  {
   "cell_type": "markdown",
   "id": "a2ce5f72",
   "metadata": {},
   "source": [
    "14. Create a set from a list.\n"
   ]
  },
  {
   "cell_type": "code",
   "execution_count": 4,
   "id": "19b203b6",
   "metadata": {},
   "outputs": [
    {
     "name": "stdout",
     "output_type": "stream",
     "text": [
      "{1, 2, 3, 4, 5}\n"
     ]
    }
   ],
   "source": [
    "my_list = [1, 2, 3, 4, 5]\n",
    "my_set = {x for x in my_list}\n",
    "print(my_set)"
   ]
  },
  {
   "cell_type": "markdown",
   "id": "b191d21a",
   "metadata": {},
   "source": [
    "15. Convert a set to a list."
   ]
  },
  {
   "cell_type": "code",
   "execution_count": 5,
   "id": "31e2f59a",
   "metadata": {},
   "outputs": [
    {
     "name": "stdout",
     "output_type": "stream",
     "text": [
      "[1, 2, 3, 4, 5]\n"
     ]
    }
   ],
   "source": [
    "my_set = {1, 2, 3, 4, 5}\n",
    "my_list = list(my_set)\n",
    "print(my_list)"
   ]
  },
  {
   "cell_type": "markdown",
   "id": "cdd23b34",
   "metadata": {},
   "source": [
    "16. Remove a random element from a set."
   ]
  },
  {
   "cell_type": "code",
   "execution_count": 6,
   "id": "56661bd6",
   "metadata": {},
   "outputs": [
    {
     "name": "stdout",
     "output_type": "stream",
     "text": [
      "Removed element: 1\n",
      "Updated set: {2, 3, 4, 5}\n"
     ]
    }
   ],
   "source": [
    "my_set = {1, 2, 3, 4, 5}\n",
    "removed_element = my_set.pop()\n",
    "\n",
    "print(f\"Removed element: {removed_element}\")\n",
    "print(f\"Updated set: {my_set}\")\n",
    "\n"
   ]
  },
  {
   "cell_type": "markdown",
   "id": "a0a71b9e",
   "metadata": {},
   "source": [
    "17. Pop an element from a set."
   ]
  },
  {
   "cell_type": "code",
   "execution_count": 7,
   "id": "c925c2c4",
   "metadata": {},
   "outputs": [
    {
     "name": "stdout",
     "output_type": "stream",
     "text": [
      "Popped element: 1\n",
      "Updated set: {2, 3, 4, 5}\n"
     ]
    }
   ],
   "source": [
    "my_set = {1, 2, 3, 4, 5}\n",
    "popped_element = my_set.pop()\n",
    "\n",
    "print(f\"Popped element: {popped_element}\")\n",
    "print(f\"Updated set: {my_set}\")\n",
    "\n"
   ]
  },
  {
   "cell_type": "markdown",
   "id": "0f37c09a",
   "metadata": {},
   "source": [
    "18. Check if two sets have no elements in common."
   ]
  },
  {
   "cell_type": "code",
   "execution_count": 8,
   "id": "1681ac28",
   "metadata": {},
   "outputs": [
    {
     "name": "stdout",
     "output_type": "stream",
     "text": [
      "The sets have no elements in common.\n"
     ]
    }
   ],
   "source": [
    "set1 = {1, 2, 3}\n",
    "set2 = {4, 5, 6}\n",
    "\n",
    "are_disjoint = set1.isdisjoint(set2)\n",
    "\n",
    "if are_disjoint:\n",
    "    print(\"The sets have no elements in common.\")\n",
    "else:\n",
    "    print(\"The sets have at least one element in common.\")\n"
   ]
  },
  {
   "cell_type": "markdown",
   "id": "893870c6",
   "metadata": {},
   "source": [
    "19. Find the symmetric difference between two sets."
   ]
  },
  {
   "cell_type": "code",
   "execution_count": 9,
   "id": "fde0d02d",
   "metadata": {},
   "outputs": [
    {
     "name": "stdout",
     "output_type": "stream",
     "text": [
      "{1, 2, 3, 6, 7, 8}\n"
     ]
    }
   ],
   "source": [
    "set1 = {1, 2, 3, 4, 5}\n",
    "set2 = {4, 5, 6, 7, 8}\n",
    "\n",
    "symmetric_difference_set = set1.symmetric_difference(set2)\n",
    "print(symmetric_difference_set )"
   ]
  },
  {
   "cell_type": "markdown",
   "id": "a7c4f4f2",
   "metadata": {},
   "source": [
    "20. Update a set with elements from another set."
   ]
  },
  {
   "cell_type": "code",
   "execution_count": 10,
   "id": "159fefbb",
   "metadata": {},
   "outputs": [
    {
     "name": "stdout",
     "output_type": "stream",
     "text": [
      "{1, 2, 3, 4, 5}\n"
     ]
    }
   ],
   "source": [
    "set1 = {1, 2, 3}\n",
    "set2 = {3, 4, 5}\n",
    "\n",
    "set1.update(set2)\n",
    "print(set1)"
   ]
  },
  {
   "cell_type": "markdown",
   "id": "39edc7b1",
   "metadata": {},
   "source": [
    "21. Create a set of the first 5 prime numbers."
   ]
  },
  {
   "cell_type": "code",
   "execution_count": 11,
   "id": "92278f79",
   "metadata": {},
   "outputs": [
    {
     "name": "stdout",
     "output_type": "stream",
     "text": [
      "{2, 3, 5, 7, 11}\n"
     ]
    }
   ],
   "source": [
    "def is_prime(num):\n",
    "    if num <= 1:\n",
    "        return False\n",
    "    for i in range(2, int(num**0.5) + 1):\n",
    "        if num % i == 0:\n",
    "            return False\n",
    "    return True\n",
    "\n",
    "prime_numbers = set()\n",
    "num = 2\n",
    "\n",
    "while len(prime_numbers) < 5:\n",
    "    if is_prime(num):\n",
    "        prime_numbers.add(num)\n",
    "    num += 1\n",
    "\n",
    "print(prime_numbers)\n"
   ]
  },
  {
   "cell_type": "markdown",
   "id": "ae3895c6",
   "metadata": {},
   "source": [
    "22. Check if two sets are identical.\n"
   ]
  },
  {
   "cell_type": "code",
   "execution_count": 12,
   "id": "e2ce1877",
   "metadata": {},
   "outputs": [
    {
     "name": "stdout",
     "output_type": "stream",
     "text": [
      "The sets are identical.\n"
     ]
    }
   ],
   "source": [
    "set1 = {1, 2, 3}\n",
    "set2 = {1, 2, 3}\n",
    "\n",
    "is_identical = set1.issubset(set2) and set2.issubset(set1)\n",
    "\n",
    "if is_identical:\n",
    "    print(\"The sets are identical.\")\n",
    "else:\n",
    "    print(\"The sets are not identical.\")\n"
   ]
  },
  {
   "cell_type": "markdown",
   "id": "9070e1fc",
   "metadata": {},
   "source": [
    "23. Create a frozen set."
   ]
  },
  {
   "cell_type": "code",
   "execution_count": 13,
   "id": "8f8c2098",
   "metadata": {},
   "outputs": [
    {
     "name": "stdout",
     "output_type": "stream",
     "text": [
      "frozenset({1, 2, 3, 4, 5})\n"
     ]
    }
   ],
   "source": [
    "my_set = {1, 2, 3, 4, 5}\n",
    "my_frozen_set = frozenset(my_set)\n",
    "print(my_frozen_set)"
   ]
  },
  {
   "cell_type": "markdown",
   "id": "718a13e3",
   "metadata": {},
   "source": [
    "24. Check if a set is disjoint with another set."
   ]
  },
  {
   "cell_type": "code",
   "execution_count": 14,
   "id": "e6e539ae",
   "metadata": {},
   "outputs": [
    {
     "name": "stdout",
     "output_type": "stream",
     "text": [
      "The sets are disjoint (have no elements in common).\n"
     ]
    }
   ],
   "source": [
    "set1 = {1, 2, 3}\n",
    "set2 = {4, 5, 6}\n",
    "\n",
    "are_disjoint = set1.isdisjoint(set2)\n",
    "\n",
    "if are_disjoint:\n",
    "    print(\"The sets are disjoint (have no elements in common).\")\n",
    "else:\n",
    "    print(\"The sets are not disjoint (have at least one element in common).\")\n"
   ]
  },
  {
   "cell_type": "markdown",
   "id": "a5932127",
   "metadata": {},
   "source": [
    "25. Create a set of squares of numbers from 1 to 5"
   ]
  },
  {
   "cell_type": "code",
   "execution_count": 15,
   "id": "ecc73a61",
   "metadata": {},
   "outputs": [
    {
     "name": "stdout",
     "output_type": "stream",
     "text": [
      "{1, 4, 9, 16, 25}\n"
     ]
    }
   ],
   "source": [
    "squares_set = {x**2 for x in range(1, 6)}\n",
    "print(squares_set)"
   ]
  },
  {
   "cell_type": "markdown",
   "id": "0ddba7d3",
   "metadata": {},
   "source": [
    "26. Filter out all even numbers from a set"
   ]
  },
  {
   "cell_type": "code",
   "execution_count": 16,
   "id": "759a3dad",
   "metadata": {},
   "outputs": [
    {
     "name": "stdout",
     "output_type": "stream",
     "text": [
      "{1, 3, 5, 7, 9}\n"
     ]
    }
   ],
   "source": [
    "original_set = {1, 2, 3, 4, 5, 6, 7, 8, 9}\n",
    "\n",
    "# Use a set comprehension to create a new set with only odd numbers\n",
    "odd_numbers_set = {x for x in original_set if x % 2 != 0}\n",
    "\n",
    "print(odd_numbers_set)\n"
   ]
  },
  {
   "cell_type": "markdown",
   "id": "7146d210",
   "metadata": {},
   "source": [
    "27. Multiply all elements in a set by 2."
   ]
  },
  {
   "cell_type": "code",
   "execution_count": 17,
   "id": "221bb6ed",
   "metadata": {},
   "outputs": [
    {
     "name": "stdout",
     "output_type": "stream",
     "text": [
      "{2, 4, 6, 8, 10}\n"
     ]
    }
   ],
   "source": [
    "original_set = {1, 2, 3, 4, 5}\n",
    "\n",
    "# Create a new set with elements multiplied by 2\n",
    "doubled_set = {x * 2 for x in original_set}\n",
    "\n",
    "print(doubled_set)\n"
   ]
  },
  {
   "cell_type": "markdown",
   "id": "82f3c26e",
   "metadata": {},
   "source": [
    "28. Create a set of random numbers."
   ]
  },
  {
   "cell_type": "code",
   "execution_count": 18,
   "id": "6cc8040b",
   "metadata": {},
   "outputs": [
    {
     "name": "stdout",
     "output_type": "stream",
     "text": [
      "{4, 39, 43, 46, 47, 83, 26, 59, 28, 93}\n"
     ]
    }
   ],
   "source": [
    "import random\n",
    "\n",
    "# Set the range for random integers\n",
    "lower_limit = 1\n",
    "upper_limit = 100\n",
    "num_elements = 10  # The number of random elements to generate\n",
    "\n",
    "# Create an empty set to store the random numbers\n",
    "random_set = set()\n",
    "\n",
    "# Generate random numbers and add them to the set\n",
    "while len(random_set) < num_elements:\n",
    "    random_number = random.randint(lower_limit, upper_limit)\n",
    "    random_set.add(random_number)\n",
    "\n",
    "print(random_set)\n"
   ]
  },
  {
   "cell_type": "markdown",
   "id": "1f5c2da6",
   "metadata": {},
   "source": [
    "29. Check if a set is empty.\n"
   ]
  },
  {
   "cell_type": "code",
   "execution_count": 19,
   "id": "4acbb2ae",
   "metadata": {},
   "outputs": [
    {
     "name": "stdout",
     "output_type": "stream",
     "text": [
      "The set is empty.\n"
     ]
    }
   ],
   "source": [
    "my_set = set()\n",
    "\n",
    "if not my_set:\n",
    "    print(\"The set is empty.\")\n",
    "else:\n",
    "    print(\"The set is not empty.\")\n"
   ]
  },
  {
   "cell_type": "markdown",
   "id": "088aa632",
   "metadata": {},
   "source": [
    "30. Create a nested set (hint: use frozenset)."
   ]
  },
  {
   "cell_type": "code",
   "execution_count": 20,
   "id": "f7fd800b",
   "metadata": {},
   "outputs": [
    {
     "name": "stdout",
     "output_type": "stream",
     "text": [
      "{frozenset({3, 4}), frozenset({5, 6}), frozenset({1, 2})}\n"
     ]
    }
   ],
   "source": [
    "nested_set = {\n",
    "    frozenset({1, 2}),\n",
    "    frozenset({3, 4}),\n",
    "    frozenset({5, 6})\n",
    "}\n",
    "print(nested_set)"
   ]
  },
  {
   "cell_type": "markdown",
   "id": "a865e40f",
   "metadata": {},
   "source": [
    "31. Remove an element from a set using the discard method"
   ]
  },
  {
   "cell_type": "code",
   "execution_count": 21,
   "id": "9ba05a0c",
   "metadata": {},
   "outputs": [
    {
     "name": "stdout",
     "output_type": "stream",
     "text": [
      "{1, 2, 4, 5}\n"
     ]
    }
   ],
   "source": [
    "my_set = {1, 2, 3, 4, 5}\n",
    "\n",
    "# Remove element 3 from the set using discard\n",
    "my_set.discard(3)\n",
    "\n",
    "print(my_set)\n"
   ]
  },
  {
   "cell_type": "markdown",
   "id": "948138aa",
   "metadata": {},
   "source": [
    "32. Compare two sets."
   ]
  },
  {
   "cell_type": "code",
   "execution_count": 22,
   "id": "cedc984f",
   "metadata": {},
   "outputs": [
    {
     "name": "stdout",
     "output_type": "stream",
     "text": [
      "The sets are equal.\n"
     ]
    }
   ],
   "source": [
    "set1 = {1, 2, 3}\n",
    "set2 = {3, 2, 1}\n",
    "\n",
    "if set1 == set2:\n",
    "    print(\"The sets are equal.\")\n",
    "else:\n",
    "    print(\"The sets are not equal.\")\n"
   ]
  },
  {
   "cell_type": "markdown",
   "id": "e206e987",
   "metadata": {},
   "source": [
    "33. Create a set from a string."
   ]
  },
  {
   "cell_type": "code",
   "execution_count": 23,
   "id": "0f5d89fb",
   "metadata": {},
   "outputs": [
    {
     "name": "stdout",
     "output_type": "stream",
     "text": [
      "{'o', 'h', 'l', 'e'}\n"
     ]
    }
   ],
   "source": [
    "my_string = \"hello\"\n",
    "my_set = set()\n",
    "\n",
    "# Add each character from the string to the set\n",
    "for char in my_string:\n",
    "    my_set.add(char)\n",
    "\n",
    "print(my_set)\n"
   ]
  },
  {
   "cell_type": "markdown",
   "id": "71e038aa",
   "metadata": {},
   "source": [
    "34. Convert a set of strings to a set of integers."
   ]
  },
  {
   "cell_type": "code",
   "execution_count": 24,
   "id": "50e77b2e",
   "metadata": {},
   "outputs": [
    {
     "name": "stdout",
     "output_type": "stream",
     "text": [
      "{1, 2, 3, 4, 5}\n"
     ]
    }
   ],
   "source": [
    "string_set = {\"1\", \"2\", \"3\", \"4\", \"5\"}\n",
    "\n",
    "# Convert the set of strings to a set of integers using a set comprehension\n",
    "integer_set = {int(x) for x in string_set}\n",
    "\n",
    "print(integer_set)\n"
   ]
  },
  {
   "cell_type": "markdown",
   "id": "47870cf7",
   "metadata": {},
   "source": [
    "35. Convert a set of integers to a set of strings"
   ]
  },
  {
   "cell_type": "code",
   "execution_count": 25,
   "id": "37daca5d",
   "metadata": {},
   "outputs": [
    {
     "name": "stdout",
     "output_type": "stream",
     "text": [
      "{'3', '4', '2', '1', '5'}\n"
     ]
    }
   ],
   "source": [
    "integer_set = {1, 2, 3, 4, 5}\n",
    "\n",
    "# Convert the set of integers to a set of strings using a set comprehension\n",
    "string_set = {str(x) for x in integer_set}\n",
    "\n",
    "print(string_set)\n"
   ]
  },
  {
   "cell_type": "markdown",
   "id": "baaacc3f",
   "metadata": {},
   "source": [
    "36. Create a set from a tuple."
   ]
  },
  {
   "cell_type": "code",
   "execution_count": 26,
   "id": "934dacf2",
   "metadata": {},
   "outputs": [
    {
     "name": "stdout",
     "output_type": "stream",
     "text": [
      "{1, 2, 3, 4, 5}\n"
     ]
    }
   ],
   "source": [
    "my_tuple = (1, 2, 3, 4, 5)\n",
    "my_set = set(my_tuple)\n",
    "print(my_set)"
   ]
  },
  {
   "cell_type": "markdown",
   "id": "9b22e26e",
   "metadata": {},
   "source": [
    "37. Convert a set to a tuple."
   ]
  },
  {
   "cell_type": "code",
   "execution_count": 27,
   "id": "8447088f",
   "metadata": {},
   "outputs": [
    {
     "name": "stdout",
     "output_type": "stream",
     "text": [
      "(1, 2, 3, 4, 5)\n"
     ]
    }
   ],
   "source": [
    "my_set = {1, 2, 3, 4, 5}\n",
    "my_tuple = tuple(my_set)\n",
    "print(my_tuple)"
   ]
  },
  {
   "cell_type": "markdown",
   "id": "03664b70",
   "metadata": {},
   "source": [
    "38. Find the maximum value in a set"
   ]
  },
  {
   "cell_type": "code",
   "execution_count": 28,
   "id": "04196d94",
   "metadata": {},
   "outputs": [
    {
     "name": "stdout",
     "output_type": "stream",
     "text": [
      "The maximum value in the set is: 5\n"
     ]
    }
   ],
   "source": [
    "my_set = {1, 3, 2, 5, 4}\n",
    "\n",
    "max_value = max(my_set)\n",
    "\n",
    "print(f\"The maximum value in the set is: {max_value}\")\n"
   ]
  },
  {
   "cell_type": "markdown",
   "id": "d564baef",
   "metadata": {},
   "source": [
    "39. Find the minimum value in a set"
   ]
  },
  {
   "cell_type": "code",
   "execution_count": 29,
   "id": "fd54e875",
   "metadata": {},
   "outputs": [
    {
     "name": "stdout",
     "output_type": "stream",
     "text": [
      "The minimum value in the set is: 1\n"
     ]
    }
   ],
   "source": [
    "my_set = {1, 3, 2, 5, 4}\n",
    "\n",
    "min_value = min(my_set)\n",
    "\n",
    "print(f\"The minimum value in the set is: {min_value}\")\n"
   ]
  },
  {
   "cell_type": "markdown",
   "id": "7c709fde",
   "metadata": {},
   "source": [
    "40. Create a set from user input."
   ]
  },
  {
   "cell_type": "code",
   "execution_count": 30,
   "id": "12af6e11",
   "metadata": {},
   "outputs": [
    {
     "name": "stdout",
     "output_type": "stream",
     "text": [
      "Enter a comma-separated list of elements: ,\n",
      "The set created from user input: {''}\n"
     ]
    }
   ],
   "source": [
    "# Get user input as a string of comma-separated values\n",
    "user_input = input(\"Enter a comma-separated list of elements: \")\n",
    "\n",
    "# Split the input string into a list of values\n",
    "values_list = user_input.split(',')\n",
    "\n",
    "# Create a set from the list of values\n",
    "my_set = set(values_list)\n",
    "\n",
    "print(\"The set created from user input:\", my_set)\n"
   ]
  },
  {
   "cell_type": "markdown",
   "id": "0265cd6e",
   "metadata": {},
   "source": [
    "41. Check if the intersection of two sets is empty."
   ]
  },
  {
   "cell_type": "code",
   "execution_count": 31,
   "id": "cc2feba1",
   "metadata": {},
   "outputs": [
    {
     "name": "stdout",
     "output_type": "stream",
     "text": [
      "The intersection of set1 and set2 is empty.\n"
     ]
    }
   ],
   "source": [
    "set1 = {1, 2, 3}\n",
    "set2 = {4, 5, 6}\n",
    "\n",
    "if set1.isdisjoint(set2):\n",
    "    print(\"The intersection of set1 and set2 is empty.\")\n",
    "else:\n",
    "    print(\"The intersection of set1 and set2 is not empty.\")\n"
   ]
  },
  {
   "cell_type": "markdown",
   "id": "0fe19785",
   "metadata": {},
   "source": [
    "42. Create a set of the first 5 Fibonacci numbers."
   ]
  },
  {
   "cell_type": "code",
   "execution_count": 32,
   "id": "b3f47594",
   "metadata": {},
   "outputs": [
    {
     "name": "stdout",
     "output_type": "stream",
     "text": [
      "Set of the first 5 Fibonacci numbers: {0, 1, 2, 3}\n"
     ]
    }
   ],
   "source": [
    "# Function to generate the first n Fibonacci numbers\n",
    "def generate_fibonacci(n):\n",
    "    fibonacci_set = set()\n",
    "    a, b = 0, 1\n",
    "    for _ in range(n):\n",
    "        fibonacci_set.add(a)\n",
    "        a, b = b, a + b\n",
    "    return fibonacci_set\n",
    "\n",
    "# Create a set of the first 5 Fibonacci numbers\n",
    "fibonacci_numbers = generate_fibonacci(5)\n",
    "\n",
    "print(\"Set of the first 5 Fibonacci numbers:\", fibonacci_numbers)\n"
   ]
  },
  {
   "cell_type": "markdown",
   "id": "6dd29ac8",
   "metadata": {},
   "source": [
    "43. Remove duplicates from a list using sets."
   ]
  },
  {
   "cell_type": "code",
   "execution_count": 33,
   "id": "cde24d7b",
   "metadata": {},
   "outputs": [
    {
     "name": "stdout",
     "output_type": "stream",
     "text": [
      "Original list: [1, 2, 2, 3, 4, 4, 5, 5]\n",
      "List with duplicates removed: [1, 2, 3, 4, 5]\n"
     ]
    }
   ],
   "source": [
    "my_list = [1, 2, 2, 3, 4, 4, 5, 5]\n",
    "\n",
    "# Convert the list to a set to remove duplicates\n",
    "unique_set = set(my_list)\n",
    "\n",
    "# Convert the set back to a list\n",
    "unique_list = list(unique_set)\n",
    "\n",
    "print(\"Original list:\", my_list)\n",
    "print(\"List with duplicates removed:\", unique_list)\n"
   ]
  },
  {
   "cell_type": "markdown",
   "id": "36d16cb6",
   "metadata": {},
   "source": [
    "44. Check if two sets have the same elements, regardless of their count."
   ]
  },
  {
   "cell_type": "code",
   "execution_count": 34,
   "id": "1088fe97",
   "metadata": {},
   "outputs": [
    {
     "name": "stdout",
     "output_type": "stream",
     "text": [
      "set1 and set2 are equivalent.\n",
      "set1 and set3 are not equivalent.\n"
     ]
    }
   ],
   "source": [
    "set1 = {1, 2, 3, 4, 5}\n",
    "set2 = {5, 4, 3, 2, 1}\n",
    "set3 = {1, 2, 2, 3, 4}\n",
    "\n",
    "# Check if set1 and set2 have the same elements (equivalent sets)\n",
    "if set1 == set2:\n",
    "    print(\"set1 and set2 are equivalent.\")\n",
    "else:\n",
    "    print(\"set1 and set2 are not equivalent.\")\n",
    "\n",
    "# Check if set1 and set3 have the same elements (equivalent sets)\n",
    "if set1 == set3:\n",
    "    print(\"set1 and set3 are equivalent.\")\n",
    "else:\n",
    "    print(\"set1 and set3 are not equivalent.\")\n"
   ]
  },
  {
   "cell_type": "markdown",
   "id": "8d5a494c",
   "metadata": {},
   "source": [
    "45. Create a set of the first `n` powers of 2."
   ]
  },
  {
   "cell_type": "code",
   "execution_count": 35,
   "id": "4a4e63fd",
   "metadata": {},
   "outputs": [
    {
     "name": "stdout",
     "output_type": "stream",
     "text": [
      "Set of the first 5 powers of 2: {1, 2, 4, 8, 16}\n"
     ]
    }
   ],
   "source": [
    "n = 5  # Specify the number of powers of 2 you want\n",
    "powers_of_2_set = set()\n",
    "\n",
    "for i in range(n):\n",
    "    powers_of_2_set.add(2 ** i)\n",
    "\n",
    "print(\"Set of the first\", n, \"powers of 2:\", powers_of_2_set)\n"
   ]
  },
  {
   "cell_type": "markdown",
   "id": "3ae5c363",
   "metadata": {},
   "source": [
    "46. Find the common elements between a set and a list."
   ]
  },
  {
   "cell_type": "code",
   "execution_count": 36,
   "id": "8602e695",
   "metadata": {},
   "outputs": [
    {
     "name": "stdout",
     "output_type": "stream",
     "text": [
      "Common elements: {3, 4, 5}\n"
     ]
    }
   ],
   "source": [
    "my_set = {1, 2, 3, 4, 5}\n",
    "my_list = [3, 4, 5, 6, 7]\n",
    "\n",
    "common_elements = my_set.intersection(my_list)\n",
    "\n",
    "print(\"Common elements:\", common_elements)\n"
   ]
  },
  {
   "cell_type": "markdown",
   "id": "73440621",
   "metadata": {},
   "source": [
    "47. Create a set of the first `n` triangular numbers"
   ]
  },
  {
   "cell_type": "code",
   "execution_count": 37,
   "id": "5e3a4cdf",
   "metadata": {},
   "outputs": [
    {
     "name": "stdout",
     "output_type": "stream",
     "text": [
      "Set of the first 5 triangular numbers: {1, 3, 6, 10, 15}\n"
     ]
    }
   ],
   "source": [
    "n = 5  # Specify the number of triangular numbers you want\n",
    "triangular_numbers_set = set()\n",
    "\n",
    "for i in range(1, n + 1):\n",
    "    triangular_number = i * (i + 1) // 2\n",
    "    triangular_numbers_set.add(triangular_number)\n",
    "\n",
    "print(\"Set of the first\", n, \"triangular numbers:\", triangular_numbers_set)\n"
   ]
  },
  {
   "cell_type": "markdown",
   "id": "320bccfe",
   "metadata": {},
   "source": [
    "48. Check if a set contains another set as a subset."
   ]
  },
  {
   "cell_type": "code",
   "execution_count": 38,
   "id": "cbf475ec",
   "metadata": {},
   "outputs": [
    {
     "name": "stdout",
     "output_type": "stream",
     "text": [
      "set2 is a subset of set1.\n"
     ]
    }
   ],
   "source": [
    "set1 = {1, 2, 3, 4, 5}\n",
    "set2 = {3, 4}\n",
    "\n",
    "# Check if set2 is a subset of set1 using the <= operator\n",
    "if set2 <= set1:\n",
    "    print(\"set2 is a subset of set1.\")\n",
    "else:\n",
    "    print(\"set2 is not a subset of set1.\")\n",
    "\n",
    "    "
   ]
  },
  {
   "cell_type": "markdown",
   "id": "351b2233",
   "metadata": {},
   "source": [
    "49. Create a set of alternating 1s and 0s of length `n`."
   ]
  },
  {
   "cell_type": "code",
   "execution_count": 39,
   "id": "f6fe1f1f",
   "metadata": {},
   "outputs": [
    {
     "name": "stdout",
     "output_type": "stream",
     "text": [
      "Set of alternating 1s and 0s: {0, 1}\n"
     ]
    }
   ],
   "source": [
    "n = 10  # Specify the length of the alternating sequence\n",
    "alternating_set = set()\n",
    "\n",
    "for i in range(n):\n",
    "    alternating_set.add(i % 2)\n",
    "\n",
    "print(\"Set of alternating 1s and 0s:\", alternating_set)\n"
   ]
  },
  {
   "cell_type": "markdown",
   "id": "5a50e222",
   "metadata": {},
   "source": [
    "50. Merge multiple sets into one."
   ]
  },
  {
   "cell_type": "code",
   "execution_count": 41,
   "id": "460fc9df",
   "metadata": {},
   "outputs": [
    {
     "name": "stdout",
     "output_type": "stream",
     "text": [
      "Merged set: {1, 2, 3, 4, 5, 6, 7}\n"
     ]
    }
   ],
   "source": [
    "set1 = {1, 2, 3}\n",
    "set2 = {3, 4, 5}\n",
    "set3 = {5, 6, 7}\n",
    "\n",
    "# Merge the sets using the union() method\n",
    "merged_set = set1.union(set2, set3)\n",
    "\n",
    "print(\"Merged set:\", merged_set)\n"
   ]
  }
 ],
 "metadata": {
  "kernelspec": {
   "display_name": "Python 3 (ipykernel)",
   "language": "python",
   "name": "python3"
  },
  "language_info": {
   "codemirror_mode": {
    "name": "ipython",
    "version": 3
   },
   "file_extension": ".py",
   "mimetype": "text/x-python",
   "name": "python",
   "nbconvert_exporter": "python",
   "pygments_lexer": "ipython3",
   "version": "3.11.3"
  }
 },
 "nbformat": 4,
 "nbformat_minor": 5
}
